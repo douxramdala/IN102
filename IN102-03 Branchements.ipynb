{
 "cells": [
  {
   "cell_type": "markdown",
   "metadata": {
    "slideshow": {
     "slide_type": "slide"
    },
    "toc": true
   },
   "source": [
    "<h1>Sommaire<span class=\"tocSkip\"></span></h1>\n",
    "<div class=\"toc\"><ul class=\"toc-item\"><li><span><a href=\"#Branchements-et-boucles\" data-toc-modified-id=\"Branchements-et-boucles-1\"><span class=\"toc-item-num\">1&nbsp;&nbsp;</span>Branchements et boucles</a></span><ul class=\"toc-item\"><li><span><a href=\"#Branchement-if-else\" data-toc-modified-id=\"Branchement-if-else-1.1\"><span class=\"toc-item-num\">1.1&nbsp;&nbsp;</span>Branchement if-else</a></span></li><li><span><a href=\"#Boucle-while\" data-toc-modified-id=\"Boucle-while-1.2\"><span class=\"toc-item-num\">1.2&nbsp;&nbsp;</span>Boucle while</a></span></li><li><span><a href=\"#Exercice:-Trouver-la-précision-du-type-double\" data-toc-modified-id=\"Exercice:-Trouver-la-précision-du-type-double-1.3\"><span class=\"toc-item-num\">1.3&nbsp;&nbsp;</span>Exercice: Trouver la précision du type double</a></span></li><li><span><a href=\"#Boucle-for\" data-toc-modified-id=\"Boucle-for-1.4\"><span class=\"toc-item-num\">1.4&nbsp;&nbsp;</span>Boucle for</a></span></li><li><span><a href=\"#Exercice:-Table-de-Multiplication\" data-toc-modified-id=\"Exercice:-Table-de-Multiplication-1.5\"><span class=\"toc-item-num\">1.5&nbsp;&nbsp;</span>Exercice: Table de Multiplication</a></span></li></ul></li></ul></div>"
   ]
  },
  {
   "cell_type": "markdown",
   "metadata": {},
   "source": [
    "**Attention:** Pour activer le langage C, executer le code suivant avec Shift+Entrée où avec le bouton \"Run\"."
   ]
  },
  {
   "cell_type": "code",
   "execution_count": 1,
   "metadata": {},
   "outputs": [
    {
     "name": "stdout",
     "output_type": "stream",
     "text": [
      "Collecting git+git://github.com/frehseg/gcc4jupyter\n",
      "  Cloning git://github.com/frehseg/gcc4jupyter to /tmp/pip-req-build-095nzy77\n",
      "  Running command git clone -q git://github.com/frehseg/gcc4jupyter /tmp/pip-req-build-095nzy77\n",
      "Requirement already satisfied (use --upgrade to upgrade): GCCPlugin==0.0.1 from git+git://github.com/frehseg/gcc4jupyter in /opt/conda/lib/python3.7/site-packages\n",
      "Building wheels for collected packages: GCCPlugin\n",
      "  Building wheel for GCCPlugin (setup.py) ... \u001b[?25ldone\n",
      "\u001b[?25h  Created wheel for GCCPlugin: filename=GCCPlugin-0.0.1-cp37-none-any.whl size=2016 sha256=6ebe2df6a888f9d55a668c195f59f923046f6b10c693ca2fd353006c05828916\n",
      "  Stored in directory: /tmp/pip-ephem-wheel-cache-0l45u209/wheels/a6/ff/b4/023d42d3ec7c36b10e15db2a808aae8b2475e19fa6e370f85c\n",
      "Successfully built GCCPlugin\n"
     ]
    }
   ],
   "source": [
    "!pip install git+git://github.com/frehseg/gcc4jupyter\n",
    "%load_ext gcc_plugin\n",
    "%load_ext add_cpp_magic"
   ]
  },
  {
   "cell_type": "markdown",
   "metadata": {
    "slideshow": {
     "slide_type": "slide"
    }
   },
   "source": [
    "\n",
    "\n",
    "# Branchements et boucles"
   ]
  },
  {
   "cell_type": "markdown",
   "metadata": {
    "slideshow": {
     "slide_type": "slide"
    }
   },
   "source": [
    "## Branchement if-else"
   ]
  },
  {
   "cell_type": "code",
   "execution_count": null,
   "metadata": {
    "slideshow": {
     "slide_type": "fragment"
    }
   },
   "outputs": [],
   "source": [
    "#include <stdio.h>\n",
    "int main() {\n",
    "   int n = -1;\n",
    "   if (n<0) {\n",
    "      return 0;\n",
    "   } else {\n",
    "       // On continue...\n",
    "   }\n",
    "}"
   ]
  },
  {
   "cell_type": "markdown",
   "metadata": {
    "slideshow": {
     "slide_type": "fragment"
    }
   },
   "source": [
    "__Attention__: \n",
    "- parenthèses obligatoires après `if`!\n",
    "- définir un bloc avec `{`et `}` très fortement conseillé !"
   ]
  },
  {
   "cell_type": "markdown",
   "metadata": {
    "slideshow": {
     "slide_type": "slide"
    }
   },
   "source": [
    "## Boucle while"
   ]
  },
  {
   "cell_type": "markdown",
   "metadata": {
    "slideshow": {
     "slide_type": "slide"
    }
   },
   "source": [
    "```\n",
    "while (<test>) {\n",
    "  ... corps de la boucle ...\n",
    "} \n",
    "```\n",
    "`<test>` est executé:\n",
    "- si 0 (faux), on continue après la boucle,\n",
    "- autrement (vrai), on execute le corps de la boucle. "
   ]
  },
  {
   "cell_type": "markdown",
   "metadata": {
    "slideshow": {
     "slide_type": "slide"
    }
   },
   "source": [
    "## Exercice: Trouver la précision du type double"
   ]
  },
  {
   "cell_type": "markdown",
   "metadata": {},
   "source": [
    "La *précision* d'un type de variable est la plus petite valeur qu'on peut toujours distinguer de 0 lors d'une opération. Pour l'addition, on appelera la précision la valeur $x$ tel que $1+x \\neq 1$ mais $1+y = 1$ pour tous les $y<x$. "
   ]
  },
  {
   "cell_type": "markdown",
   "metadata": {},
   "source": [
    "Ecrivez un programme qui définit une variable `x` de type `double` qui vaut d'abord `1.0`. Ensuite, on divise `x` par `2.0` tant que `1.0 + x` est différent de `1.0`.\n",
    "Finalement, on multiplie `x` par `2.0` et affiche sa valeur.\n",
    "\n",
    "Ca donne la structure suivante :\n",
    "```\n",
    "// On déclare x et lui donne la valeur 1.0.\n",
    "while (<si 1.0+x est différent de 1.0>) {\n",
    "  // diviser x par 2.0\n",
    "} \n",
    "// multiplier x par 2.0\n",
    "// afficher x\n",
    "```\n",
    "\n"
   ]
  },
  {
   "cell_type": "code",
   "execution_count": 5,
   "metadata": {
    "slideshow": {
     "slide_type": "fragment"
    }
   },
   "outputs": [
    {
     "name": "stdout",
     "output_type": "stream",
     "text": [
      "\n"
     ]
    }
   ],
   "source": [
    "%%c\n",
    "#include <stdio.h>\n",
    "\n",
    "int main() {\n",
    " // à vous de jouer...\n",
    "}"
   ]
  },
  {
   "cell_type": "markdown",
   "metadata": {
    "slideshow": {
     "slide_type": "slide"
    }
   },
   "source": [
    "## Boucle for"
   ]
  },
  {
   "cell_type": "markdown",
   "metadata": {
    "slideshow": {
     "slide_type": "slide"
    }
   },
   "source": [
    "La structure suivante est extrèmement courrante :\n",
    "\n",
    "```\n",
    "int i = 1;\n",
    "while (i<=n) {\n",
    "  ... calcul ...\n",
    "  i = i+1;\n",
    "} \n",
    "```"
   ]
  },
  {
   "cell_type": "markdown",
   "metadata": {
    "slideshow": {
     "slide_type": "slide"
    }
   },
   "source": [
    "plus généralement :\n",
    "\n",
    "```\n",
    "<instruction1>\n",
    "while (<test>) {\n",
    "  ... calcul ...\n",
    "  <instruction2>\n",
    "} \n",
    "```"
   ]
  },
  {
   "cell_type": "markdown",
   "metadata": {
    "slideshow": {
     "slide_type": "fragment"
    }
   },
   "source": [
    "100% équivalent:\n",
    "```\n",
    "for (<instruction1>; <test>; <instruction2>) {\n",
    "  ... calcul ...\n",
    "} \n",
    "```\n",
    "Après chaque `<instruction2>`, `<test>` est exectuté pour voir si on arrête la boucle."
   ]
  },
  {
   "cell_type": "markdown",
   "metadata": {
    "slideshow": {
     "slide_type": "slide"
    }
   },
   "source": [
    "## Exercice: Table de Multiplication\n",
    "\n",
    "Ma fille a 8 ans et est en train d'apprendre les tables de multiplication. Je lui ai promis un programme pour afficher la table de multiplication jusqu'à `n`x`n` pour un nombre `n` donné. \n",
    "\n",
    "Si `n` est négatif, le programme ne doit faire rien du tout."
   ]
  },
  {
   "cell_type": "markdown",
   "metadata": {
    "slideshow": {
     "slide_type": "slide"
    }
   },
   "source": [
    "On commence avec les commentaires :\n",
    "\n",
    "```\n",
    "int main() {\n",
    "    // Définir le nombre de tours n\n",
    "    // Si n négatif, on arrête\n",
    "    // Sinon, remettre compteur i à zéro\n",
    "    // Boucle: afficher i x n, puis augmenter i jusqu'à i==n\n",
    "}\n",
    "```"
   ]
  },
  {
   "cell_type": "markdown",
   "metadata": {
    "raw_mimetype": "text/markdown"
   },
   "source": [
    "<script>\n",
    "    console.log(\"Hello. You'll see this printed in your browser's DevTools / Console. Feel free to delete this line.\");\n",
    "    document.querySelector('head').innerHTML += '<style>.slides { zoom: 1.0 !important; }</style>';\n",
    "</script>"
   ]
  },
  {
   "cell_type": "code",
   "execution_count": null,
   "metadata": {},
   "outputs": [],
   "source": []
  }
 ],
 "metadata": {
  "celltoolbar": "Raw Cell Format",
  "kernelspec": {
   "display_name": "Python 3",
   "language": "python",
   "name": "python3"
  },
  "language_info": {
   "codemirror_mode": {
    "name": "ipython",
    "version": 3
   },
   "file_extension": ".py",
   "mimetype": "text/x-python",
   "name": "python",
   "nbconvert_exporter": "python",
   "pygments_lexer": "ipython3",
   "version": "3.7.3"
  },
  "rise": {
   "enable_chalkboard": true,
   "theme": "simple",
   "transition": "none"
  },
  "toc": {
   "base_numbering": 1,
   "nav_menu": {},
   "number_sections": true,
   "sideBar": true,
   "skip_h1_title": false,
   "title_cell": "Sommaire",
   "title_sidebar": "Sommaire",
   "toc_cell": true,
   "toc_position": {
    "height": "calc(100% - 180px)",
    "left": "10px",
    "top": "150px",
    "width": "261px"
   },
   "toc_section_display": true,
   "toc_window_display": false
  }
 },
 "nbformat": 4,
 "nbformat_minor": 2
}

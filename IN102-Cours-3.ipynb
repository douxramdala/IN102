{
 "cells": [
  {
   "cell_type": "markdown",
   "metadata": {
    "slideshow": {
     "slide_type": "slide"
    },
    "toc": true
   },
   "source": [
    "<h1>Sommaire<span class=\"tocSkip\"></span></h1>\n",
    "<div class=\"toc\"><ul class=\"toc-item\"><li><span><a href=\"#Fonctions-(suite)\" data-toc-modified-id=\"Fonctions-(suite)-1\"><span class=\"toc-item-num\">1&nbsp;&nbsp;</span>Fonctions (suite)</a></span><ul class=\"toc-item\"><li><span><a href=\"#Passage-par-valeur\" data-toc-modified-id=\"Passage-par-valeur-1.1\"><span class=\"toc-item-num\">1.1&nbsp;&nbsp;</span>Passage par valeur</a></span><ul class=\"toc-item\"><li><span><a href=\"#Avantage-de-passage-à-valeur\" data-toc-modified-id=\"Avantage-de-passage-à-valeur-1.1.1\"><span class=\"toc-item-num\">1.1.1&nbsp;&nbsp;</span>Avantage de passage à valeur</a></span></li><li><span><a href=\"#Inconvénient-de-passage-à-valeur\" data-toc-modified-id=\"Inconvénient-de-passage-à-valeur-1.1.2\"><span class=\"toc-item-num\">1.1.2&nbsp;&nbsp;</span>Inconvénient de passage à valeur</a></span></li></ul></li><li><span><a href=\"#Passage-par-adresse\" data-toc-modified-id=\"Passage-par-adresse-1.2\"><span class=\"toc-item-num\">1.2&nbsp;&nbsp;</span>Passage par adresse</a></span><ul class=\"toc-item\"><li><span><a href=\"#Avantage-de-passage-par-adresse\" data-toc-modified-id=\"Avantage-de-passage-par-adresse-1.2.1\"><span class=\"toc-item-num\">1.2.1&nbsp;&nbsp;</span>Avantage de passage par adresse</a></span></li><li><span><a href=\"#Inconvénient-de-passage-par-adresse\" data-toc-modified-id=\"Inconvénient-de-passage-par-adresse-1.2.2\"><span class=\"toc-item-num\">1.2.2&nbsp;&nbsp;</span>Inconvénient de passage par adresse</a></span></li></ul></li></ul></li><li><span><a href=\"#Boucles-(suite)\" data-toc-modified-id=\"Boucles-(suite)-2\"><span class=\"toc-item-num\">2&nbsp;&nbsp;</span>Boucles (suite)</a></span><ul class=\"toc-item\"><li><span><a href=\"#Boucle-for\" data-toc-modified-id=\"Boucle-for-2.1\"><span class=\"toc-item-num\">2.1&nbsp;&nbsp;</span>Boucle for</a></span></li><li><span><a href=\"#Exercice:-Table-de-Multiplication\" data-toc-modified-id=\"Exercice:-Table-de-Multiplication-2.2\"><span class=\"toc-item-num\">2.2&nbsp;&nbsp;</span>Exercice: Table de Multiplication</a></span></li><li><span><a href=\"#Boucle-do-while\" data-toc-modified-id=\"Boucle-do-while-2.3\"><span class=\"toc-item-num\">2.3&nbsp;&nbsp;</span>Boucle do-while</a></span></li></ul></li><li><span><a href=\"#Chaînes-de-caractères\" data-toc-modified-id=\"Chaînes-de-caractères-3\"><span class=\"toc-item-num\">3&nbsp;&nbsp;</span>Chaînes de caractères</a></span><ul class=\"toc-item\"><li><span><a href=\"#Créer-une-chaîne\" data-toc-modified-id=\"Créer-une-chaîne-3.1\"><span class=\"toc-item-num\">3.1&nbsp;&nbsp;</span>Créer une chaîne</a></span></li><li><span><a href=\"#Afficher-une-chaîne\" data-toc-modified-id=\"Afficher-une-chaîne-3.2\"><span class=\"toc-item-num\">3.2&nbsp;&nbsp;</span>Afficher une chaîne</a></span></li></ul></li><li><span><a href=\"#Struct\" data-toc-modified-id=\"Struct-4\"><span class=\"toc-item-num\">4&nbsp;&nbsp;</span>Struct</a></span><ul class=\"toc-item\"><li><span><a href=\"#Principe-du-struct\" data-toc-modified-id=\"Principe-du-struct-4.1\"><span class=\"toc-item-num\">4.1&nbsp;&nbsp;</span>Principe du struct</a></span></li><li><span><a href=\"#Créer-un-struct\" data-toc-modified-id=\"Créer-un-struct-4.2\"><span class=\"toc-item-num\">4.2&nbsp;&nbsp;</span>Créer un struct</a></span></li><li><span><a href=\"#Utiliser-un-struct\" data-toc-modified-id=\"Utiliser-un-struct-4.3\"><span class=\"toc-item-num\">4.3&nbsp;&nbsp;</span>Utiliser un struct</a></span></li><li><span><a href=\"#Résume-de-struct\" data-toc-modified-id=\"Résume-de-struct-4.4\"><span class=\"toc-item-num\">4.4&nbsp;&nbsp;</span>Résume de struct</a></span><ul class=\"toc-item\"><li><span><a href=\"#Définition-d'un-nouveau-type-struct\" data-toc-modified-id=\"Définition-d'un-nouveau-type-struct-4.4.1\"><span class=\"toc-item-num\">4.4.1&nbsp;&nbsp;</span>Définition d'un nouveau type struct</a></span></li><li><span><a href=\"#Définition-d'une-variable-struct\" data-toc-modified-id=\"Définition-d'une-variable-struct-4.4.2\"><span class=\"toc-item-num\">4.4.2&nbsp;&nbsp;</span>Définition d'une variable struct</a></span></li><li><span><a href=\"#Utiliser-les-champs-d'un-struct\" data-toc-modified-id=\"Utiliser-les-champs-d'un-struct-4.4.3\"><span class=\"toc-item-num\">4.4.3&nbsp;&nbsp;</span>Utiliser les champs d'un struct</a></span></li><li><span><a href=\"#Utiliser-les-champs-d'un-pointeur-vers-struct\" data-toc-modified-id=\"Utiliser-les-champs-d'un-pointeur-vers-struct-4.4.4\"><span class=\"toc-item-num\">4.4.4&nbsp;&nbsp;</span>Utiliser les champs d'un pointeur vers struct</a></span></li></ul></li></ul></li></ul></div>"
   ]
  },
  {
   "cell_type": "markdown",
   "metadata": {
    "slideshow": {
     "slide_type": "slide"
    }
   },
   "source": [
    "# Fonctions (suite)"
   ]
  },
  {
   "cell_type": "markdown",
   "metadata": {
    "slideshow": {
     "slide_type": "slide"
    }
   },
   "source": [
    "## Passage par valeur\n",
    "\n",
    "Les arguments sont des __variables__:\n",
    "\n",
    "``\n",
    "int carre_par_valeur(int z) {\n",
    "   return z*z;\n",
    "}``"
   ]
  },
  {
   "cell_type": "markdown",
   "metadata": {
    "slideshow": {
     "slide_type": "fragment"
    }
   },
   "source": [
    "``int main() {\n",
    "   int x = 3;\n",
    "   x = carre_par_valeur(x);\n",
    "   printf(\"%d\",x);\n",
    "}\n",
    "``"
   ]
  },
  {
   "cell_type": "markdown",
   "metadata": {
    "slideshow": {
     "slide_type": "fragment"
    }
   },
   "source": [
    "1. Je fais une __copie__ de `x` dans `z`.\n",
    "2. Je fais un calcul avec.\n",
    "3. Je copie le résultat du calcul dans la __valeur de retour__ (registre)."
   ]
  },
  {
   "cell_type": "markdown",
   "metadata": {
    "slideshow": {
     "slide_type": "slide"
    }
   },
   "source": [
    "### Avantage de passage à valeur\n",
    "- facile à écrire\n",
    "\n",
    "### Inconvénient de passage à valeur\n",
    "- copies des valeurs (`x` vers `z`) --> lent (ça dépend)"
   ]
  },
  {
   "cell_type": "markdown",
   "metadata": {
    "slideshow": {
     "slide_type": "slide"
    }
   },
   "source": [
    "## Passage par adresse\n",
    "\n",
    "L'argument est un __pointeur__:\n",
    "\n",
    "``\n",
    "void carre_par_adresse(int* px) {\n",
    "    (*px) = (*px) * (*px); // rappel: (*px) identique à x\n",
    "}``"
   ]
  },
  {
   "cell_type": "markdown",
   "metadata": {
    "slideshow": {
     "slide_type": "fragment"
    }
   },
   "source": [
    "``int main() {\n",
    "   int x = 3;\n",
    "   carre_par_adresse(&x);\n",
    "   printf(\"%d\",x);\n",
    "}\n",
    "``"
   ]
  },
  {
   "cell_type": "markdown",
   "metadata": {
    "slideshow": {
     "slide_type": "fragment"
    }
   },
   "source": [
    "1. Je fais le calcul directement avec `x`.\n",
    "2. Je manipule `x` via un pointeur."
   ]
  },
  {
   "cell_type": "markdown",
   "metadata": {
    "slideshow": {
     "slide_type": "slide"
    }
   },
   "source": [
    "### Avantage de passage par adresse\n",
    "- pas de copie --> rapide\n",
    "- on peut manipuler plusieurs valeurs!\n",
    "\n",
    "### Inconvénient de passage par adresse\n",
    "- plus difficile à écire\n"
   ]
  },
  {
   "cell_type": "markdown",
   "metadata": {
    "slideshow": {
     "slide_type": "slide"
    }
   },
   "source": [
    "# Boucles (suite)\n",
    "## Boucle for\n",
    "\n",
    "La structure suivante est extrèmement courrante :\n",
    "\n",
    "```\n",
    "int i = 1;\n",
    "while (i<=n) {\n",
    "  ... calcul ...\n",
    "  i = i+1;\n",
    "} \n",
    "```\n",
    "\n",
    "On execute la boucle pour toutes les valeurs entre `1` et `n`."
   ]
  },
  {
   "cell_type": "markdown",
   "metadata": {
    "slideshow": {
     "slide_type": "slide"
    }
   },
   "source": [
    "plus généralement :\n",
    "\n",
    "```\n",
    "<instruction1>\n",
    "while (<test>) {\n",
    "  ... calcul ...\n",
    "  <instruction2>\n",
    "} \n",
    "```"
   ]
  },
  {
   "cell_type": "markdown",
   "metadata": {
    "slideshow": {
     "slide_type": "fragment"
    }
   },
   "source": [
    "100% équivalent:\n",
    "```\n",
    "for (<instruction1>; <test>; <instruction2>) {\n",
    "  ... calcul ...\n",
    "} \n",
    "```"
   ]
  },
  {
   "cell_type": "markdown",
   "metadata": {
    "slideshow": {
     "slide_type": "fragment"
    }
   },
   "source": [
    "- `<instruction1>` est executé seulement une fois.\n",
    "- Après chaque `<instruction2>`, `<test>` est exectuté pour voir si on arrête la boucle."
   ]
  },
  {
   "cell_type": "markdown",
   "metadata": {
    "slideshow": {
     "slide_type": "slide"
    }
   },
   "source": [
    "## Exercice: Table de Multiplication\n",
    "\n",
    "Afficher une table de multiplication pour toutes les valeurs entre `1`x`1`et `n`x`n`."
   ]
  },
  {
   "cell_type": "markdown",
   "metadata": {
    "slideshow": {
     "slide_type": "fragment"
    }
   },
   "source": [
    "On commence avec les commentaires !"
   ]
  },
  {
   "cell_type": "code",
   "execution_count": 82,
   "metadata": {
    "slideshow": {
     "slide_type": "slide"
    }
   },
   "outputs": [],
   "source": [
    "int main() {\n",
    "    // Définir le nombre de tours n\n",
    "    // Si n négatif, on arrête\n",
    "    // Boucle: parcourir toutes les valeurs de i=1 à i=n\n",
    "        // Boucle: parcourir toutes les valeurs de j=1 à j=n\n",
    "            // afficher i x j = i*j\n",
    "}\n"
   ]
  },
  {
   "cell_type": "code",
   "execution_count": 88,
   "metadata": {
    "slideshow": {
     "slide_type": "slide"
    }
   },
   "outputs": [
    {
     "name": "stdout",
     "output_type": "stream",
     "text": [
      "1 x 1 =   1   1 x 2 =   2   1 x 3 =   3   1 x 4 =   4   1 x 5 =   5   \n",
      "2 x 1 =   2   2 x 2 =   4   2 x 3 =   6   2 x 4 =   8   2 x 5 =  10   \n",
      "3 x 1 =   3   3 x 2 =   6   3 x 3 =   9   3 x 4 =  12   3 x 5 =  15   \n",
      "4 x 1 =   4   4 x 2 =   8   4 x 3 =  12   4 x 4 =  16   4 x 5 =  20   \n",
      "5 x 1 =   5   5 x 2 =  10   5 x 3 =  15   5 x 4 =  20   5 x 5 =  25   \n"
     ]
    }
   ],
   "source": [
    "#include <stdio.h>\n",
    "int main() {\n",
    "    // Définir le nombre de tours n\n",
    "    int n = 5;\n",
    "    // Boucle: parcourir toutes les valeurs de i=1 à i=n\n",
    "    for (int i = 1;i<=n;++i) {\n",
    "        // Boucle: parcourir toutes les valeurs de j=1 à j=n\n",
    "        for (int j = 1; j <= n; ++j) {\n",
    "            // afficher i x j = i®*j\n",
    "            printf(\"%d x %d = %3d   \",i,j,i*j);\n",
    "        }\n",
    "        printf(\"\\n\");\n",
    "    }\n",
    "}\n"
   ]
  },
  {
   "cell_type": "markdown",
   "metadata": {
    "slideshow": {
     "slide_type": "slide"
    }
   },
   "source": [
    "## Boucle do-while\n",
    "\n",
    "La boucle __while__ est parfois pas très élégante :\n",
    "\n",
    "```\n",
    "#include <stdio.h>\n",
    "int main() {\n",
    "    int reponse;\n",
    "    printf(\"Entrez 4 pour quitter: \");\n",
    "    scanf(\"%d\",&reponse);\n",
    "    while (reponse!=4) {\n",
    "        scanf(\"%d\",&reponse);\n",
    "    } \n",
    "}\n",
    "```"
   ]
  },
  {
   "cell_type": "markdown",
   "metadata": {
    "slideshow": {
     "slide_type": "fragment"
    }
   },
   "source": [
    "`scanf`est écrit deux fois : deux fois plus de chance d'un bug"
   ]
  },
  {
   "cell_type": "markdown",
   "metadata": {
    "slideshow": {
     "slide_type": "slide"
    }
   },
   "source": [
    "variante : boucle `do`-`while` execute son corps au moins une fois"
   ]
  },
  {
   "cell_type": "markdown",
   "metadata": {
    "slideshow": {
     "slide_type": "fragment"
    }
   },
   "source": [
    "```\n",
    "#include <stdio.h>\n",
    "int main() {\n",
    "    int reponse;\n",
    "    printf(\"Entrez 4 pour quitter: \");\n",
    "    do {\n",
    "        scanf(\"%d\",&reponse);\n",
    "    } while (reponse!=4) \n",
    "}\n",
    "```"
   ]
  },
  {
   "cell_type": "markdown",
   "metadata": {
    "slideshow": {
     "slide_type": "slide"
    }
   },
   "source": [
    "# Chaînes de caractères\n",
    "\n",
    "caractère : entier de 0 à 255\n",
    "\n",
    "chaque numéro correspond à une lettre:\n",
    "- A = 65, B = 66, ..., Z = 90\n",
    "- a = 97, b = 98, ..., z = 122 \n",
    "- 0 = 48, 1 = 49, ..., 9 = 57\n",
    "\n",
    "chaîne : suite de caractères __terminé par le numéro 0__ <br> (pas besoin de stocker la longueur)\n",
    "\n",
    "- \"ENSTA\" = 69,78,83,84,65,__0__\n",
    "- \"IN120\" = 73,78,49,50,48,__0__\n"
   ]
  },
  {
   "cell_type": "markdown",
   "metadata": {
    "slideshow": {
     "slide_type": "slide"
    }
   },
   "source": [
    "## Créer une chaîne\n",
    "\n",
    "chaîne modifiable avec `[]`:\n",
    "\n",
    "``char ma_chaine[] = \"ENSTA\";``\n",
    "\n",
    "chaîne __non modifiable__ avec `*`:\n",
    "\n",
    "``char* ma_chaine = \"ENSTA\";``\n",
    "\n",
    "- `[]`: tableau (voir cours 4)\n",
    "- chaînes non modifiables sont stockés dans mémoire partagé entre plusieurs instances du même programme\n",
    "- dans les deux cas, `ma_chaine` est un pointeur `char*` vers `E`"
   ]
  },
  {
   "cell_type": "markdown",
   "metadata": {
    "slideshow": {
     "slide_type": "slide"
    }
   },
   "source": [
    "## Afficher une chaîne"
   ]
  },
  {
   "cell_type": "code",
   "execution_count": 79,
   "metadata": {
    "slideshow": {
     "slide_type": "fragment"
    }
   },
   "outputs": [
    {
     "name": "stdout",
     "output_type": "stream",
     "text": [
      "IN102\n"
     ]
    }
   ],
   "source": [
    "#include <stdio.h>\n",
    "int main() {\n",
    "   char ma_chaine[] = \"IN102\";\n",
    "   printf(\"%s\\n\", ma_chaine );\n",
    "}"
   ]
  },
  {
   "cell_type": "markdown",
   "metadata": {
    "slideshow": {
     "slide_type": "slide"
    }
   },
   "source": [
    "# Struct\n",
    "\n",
    "Gérer plusieurs données comme une unité, potentiellement avec des types différents:\n",
    "\n",
    "Exemple: Adresse postale\n",
    "- nom du déstinataire\n",
    "- numéro dans la voie\n",
    "- nom de voie\n",
    "- code postal de 5 chiffres\n",
    "- nom de la commune"
   ]
  },
  {
   "cell_type": "markdown",
   "metadata": {
    "slideshow": {
     "slide_type": "slide"
    }
   },
   "source": [
    "``\n",
    "void afficher(char* nom_dest, int no_voie, char* nom_voie, int code_postal, char* nom_commune) {\n",
    "    // ...\n",
    "}\n",
    "``\n",
    "- c'est penible à écrire\n",
    "- c'est difficile à maintenir\n",
    "    - ajouter un numéro de boite postale --> modifier __tout__ les fonctions qui utilisent une adresse"
   ]
  },
  {
   "cell_type": "markdown",
   "metadata": {
    "slideshow": {
     "slide_type": "slide"
    }
   },
   "source": [
    "## Principe du struct\n",
    "\n",
    "Idée : rassembler les informations dans une seule variable\n",
    "\n",
    "Type nommé : ``struct adresse``\n",
    "\n",
    "``struct adresse {\n",
    "   char* nom_dest;\n",
    "   int no_voie;\n",
    "   char* nom_voie;\n",
    "   int code_postal;\n",
    "   char* nom_commune;\n",
    "}\n",
    "``"
   ]
  },
  {
   "cell_type": "markdown",
   "metadata": {
    "slideshow": {
     "slide_type": "slide"
    }
   },
   "source": [
    "``\n",
    "void afficher(struct adresse mon_adr) {\n",
    "    // ...\n",
    "}\n",
    "``\n",
    "\n",
    "- plus lisible\n",
    "- facile à maintenir:\n",
    "    - ajouter un numéro de boite postale --> l'entête de la fonction reste pareil <br>\n",
    "      (éventuellement ajouter une instruction pour afficher la nouvelle information)"
   ]
  },
  {
   "cell_type": "markdown",
   "metadata": {
    "slideshow": {
     "slide_type": "slide"
    }
   },
   "source": [
    "## Créer un struct\n",
    "\n",
    "`struct adresse` est un __type__ (comme `int`)\n",
    "\n",
    "pour créer un struct de ce type:\n",
    "\n",
    "``struct adresse adr_prof = {\n",
    "    \"Goran Frehse\",\n",
    "     828, \n",
    "     \"boulevard des maréchaux\",\n",
    "     91762,\n",
    "     \"Palaiseau\"\n",
    "};\n",
    "``\n",
    "\n"
   ]
  },
  {
   "cell_type": "markdown",
   "metadata": {
    "slideshow": {
     "slide_type": "slide"
    }
   },
   "source": [
    "## Utiliser un struct\n",
    "\n",
    "```\n",
    "void afficher(struct adresse mon_adr) {\n",
    "    printf(\"%s\\n\",mon_adr.nom_dest);\n",
    "    printf(\"%d, %s\\n\",mon_adr.no_voie,mon_adr.nom_voie);\n",
    "    printf(\"%d %s\\n\",mon_adr.code_postal,mon_adr.nom_commune);\n",
    "}\n",
    "```\n",
    "\n",
    "```\n",
    "int main() {\n",
    "    struct adresse adr_prof = {\n",
    "    \"Goran Frehse\",\n",
    "     828, \n",
    "     \"boulevard des maréchaux\",\n",
    "     91762,\n",
    "     \"Palaiseau\"\n",
    "    };\n",
    "    afficher(adr_prof);\n",
    "}\n",
    "```\n",
    "\n"
   ]
  },
  {
   "cell_type": "markdown",
   "metadata": {
    "slideshow": {
     "slide_type": "slide"
    }
   },
   "source": [
    "## Résume de struct\n",
    "\n",
    "### Définition d'un nouveau type struct\n",
    "\n",
    "`struct` nom_de_type `{`\n",
    "\n",
    "    type nom_de_champ1;\n",
    "    type nom_de_champ2;\n",
    "\n",
    "    ... __champs__ ...\n",
    "        \n",
    "`}`"
   ]
  },
  {
   "cell_type": "markdown",
   "metadata": {
    "slideshow": {
     "slide_type": "slide"
    }
   },
   "source": [
    "### Définition d'une variable struct\n",
    "\n",
    "`struct` nom_de_type nom_de_variable `= {`\n",
    "\n",
    "    valeur1 ,\n",
    "    valeur2 ,\n",
    "    ... ___valeurs__ ...\n",
    "    \n",
    " `}`"
   ]
  },
  {
   "cell_type": "markdown",
   "metadata": {
    "slideshow": {
     "slide_type": "slide"
    }
   },
   "source": [
    "### Utiliser les champs d'un struct\n",
    "\n",
    "```\n",
    "    nom_de_variable.valeur1 = ...;\n",
    "    nom_de_variable.valeur2 = ...;\n",
    "```\n",
    "\n",
    "### Utiliser les champs d'un pointeur vers struct\n",
    "\n",
    "```\n",
    "    pointeur_vers_struct -> valeur1 = ...;\n",
    "    pointeur_vers_struct -> valeur2 = ...;\n",
    "```    \n",
    "    "
   ]
  }
 ],
 "metadata": {
  "celltoolbar": "Slideshow",
  "kernelspec": {
   "display_name": "C",
   "language": "c",
   "name": "c"
  },
  "language_info": {
   "file_extension": ".c",
   "mimetype": "text/plain",
   "name": "c"
  },
  "rise": {
   "enable_chalkboard": true,
   "theme": "simple",
   "transition": "none"
  },
  "toc": {
   "base_numbering": 1,
   "nav_menu": {},
   "number_sections": true,
   "sideBar": true,
   "skip_h1_title": false,
   "title_cell": "Sommaire",
   "title_sidebar": "Sommaire",
   "toc_cell": true,
   "toc_position": {
    "height": "calc(100% - 180px)",
    "left": "10px",
    "top": "150px",
    "width": "261px"
   },
   "toc_section_display": true,
   "toc_window_display": false
  }
 },
 "nbformat": 4,
 "nbformat_minor": 2
}

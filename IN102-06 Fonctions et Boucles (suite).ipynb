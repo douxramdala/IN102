{
 "cells": [
  {
   "cell_type": "markdown",
   "metadata": {
    "slideshow": {
     "slide_type": ""
    },
    "toc": true
   },
   "source": [
    "<h1>Sommaire<span class=\"tocSkip\"></span></h1>\n",
    "<div class=\"toc\"><ul class=\"toc-item\"><li><span><a href=\"#Fonctions-(suite)\" data-toc-modified-id=\"Fonctions-(suite)-1\"><span class=\"toc-item-num\">1&nbsp;&nbsp;</span>Fonctions (suite)</a></span><ul class=\"toc-item\"><li><span><a href=\"#Passage-par-valeur\" data-toc-modified-id=\"Passage-par-valeur-1.1\"><span class=\"toc-item-num\">1.1&nbsp;&nbsp;</span>Passage par valeur</a></span><ul class=\"toc-item\"><li><span><a href=\"#Avantage-de-passage-à-valeur\" data-toc-modified-id=\"Avantage-de-passage-à-valeur-1.1.1\"><span class=\"toc-item-num\">1.1.1&nbsp;&nbsp;</span>Avantage de passage à valeur</a></span></li><li><span><a href=\"#Inconvénient-de-passage-à-valeur\" data-toc-modified-id=\"Inconvénient-de-passage-à-valeur-1.1.2\"><span class=\"toc-item-num\">1.1.2&nbsp;&nbsp;</span>Inconvénient de passage à valeur</a></span></li></ul></li><li><span><a href=\"#Passage-par-adresse\" data-toc-modified-id=\"Passage-par-adresse-1.2\"><span class=\"toc-item-num\">1.2&nbsp;&nbsp;</span>Passage par adresse</a></span><ul class=\"toc-item\"><li><span><a href=\"#Avantage-de-passage-par-adresse\" data-toc-modified-id=\"Avantage-de-passage-par-adresse-1.2.1\"><span class=\"toc-item-num\">1.2.1&nbsp;&nbsp;</span>Avantage de passage par adresse</a></span></li><li><span><a href=\"#Inconvénient-de-passage-par-adresse\" data-toc-modified-id=\"Inconvénient-de-passage-par-adresse-1.2.2\"><span class=\"toc-item-num\">1.2.2&nbsp;&nbsp;</span>Inconvénient de passage par adresse</a></span></li></ul></li></ul></li><li><span><a href=\"#Boucles-(suite)\" data-toc-modified-id=\"Boucles-(suite)-2\"><span class=\"toc-item-num\">2&nbsp;&nbsp;</span>Boucles (suite)</a></span><ul class=\"toc-item\"><li><span><a href=\"#Boucle-for\" data-toc-modified-id=\"Boucle-for-2.1\"><span class=\"toc-item-num\">2.1&nbsp;&nbsp;</span>Boucle for</a></span></li><li><span><a href=\"#Exercice:-Table-de-Multiplication\" data-toc-modified-id=\"Exercice:-Table-de-Multiplication-2.2\"><span class=\"toc-item-num\">2.2&nbsp;&nbsp;</span>Exercice: Table de Multiplication</a></span></li><li><span><a href=\"#Boucle-do-while\" data-toc-modified-id=\"Boucle-do-while-2.3\"><span class=\"toc-item-num\">2.3&nbsp;&nbsp;</span>Boucle do-while</a></span></li></ul></li></ul></div>"
   ]
  },
  {
   "cell_type": "markdown",
   "metadata": {},
   "source": [
    "**Attention:** Pour activer le langage C, executer le code suivant avec Shift+Entrée où avec le bouton \"Run\"."
   ]
  },
  {
   "cell_type": "code",
   "execution_count": 1,
   "metadata": {},
   "outputs": [
    {
     "name": "stdout",
     "output_type": "stream",
     "text": [
      "Collecting git+git://github.com/frehseg/gcc4jupyter\n",
      "  Cloning git://github.com/frehseg/gcc4jupyter to /tmp/pip-req-build-usw39067\n",
      "  Running command git clone -q git://github.com/frehseg/gcc4jupyter /tmp/pip-req-build-usw39067\n",
      "Requirement already satisfied (use --upgrade to upgrade): GCCPlugin==0.0.1 from git+git://github.com/frehseg/gcc4jupyter in /opt/conda/lib/python3.7/site-packages\n",
      "Building wheels for collected packages: GCCPlugin\n",
      "  Building wheel for GCCPlugin (setup.py) ... \u001b[?25ldone\n",
      "\u001b[?25h  Created wheel for GCCPlugin: filename=GCCPlugin-0.0.1-cp37-none-any.whl size=2001 sha256=9fabf6638b577b69f5351f89c6cabff2bb7b240aaf2c953aea9d29dc054cdbda\n",
      "  Stored in directory: /tmp/pip-ephem-wheel-cache-m63vc0ca/wheels/a6/ff/b4/023d42d3ec7c36b10e15db2a808aae8b2475e19fa6e370f85c\n",
      "Successfully built GCCPlugin\n"
     ]
    }
   ],
   "source": [
    "!pip install git+git://github.com/frehseg/gcc4jupyter\n",
    "%load_ext gcc_plugin"
   ]
  },
  {
   "cell_type": "markdown",
   "metadata": {
    "slideshow": {
     "slide_type": "slide"
    }
   },
   "source": [
    "# Fonctions (suite)"
   ]
  },
  {
   "cell_type": "markdown",
   "metadata": {
    "slideshow": {
     "slide_type": "slide"
    }
   },
   "source": [
    "## Passage par valeur\n",
    "\n",
    "Les arguments sont des __variables__:\n",
    "\n",
    "``\n",
    "int carre_par_valeur(int z) {\n",
    "   return z*z;\n",
    "}``"
   ]
  },
  {
   "cell_type": "markdown",
   "metadata": {
    "slideshow": {
     "slide_type": "fragment"
    }
   },
   "source": [
    "``int main() {\n",
    "   int x = 3;\n",
    "   x = carre_par_valeur(x);\n",
    "   printf(\"%d\",x);\n",
    "}\n",
    "``"
   ]
  },
  {
   "cell_type": "markdown",
   "metadata": {
    "slideshow": {
     "slide_type": "fragment"
    }
   },
   "source": [
    "1. Je fais une __copie__ de `x` dans `z`.\n",
    "2. Je fais un calcul avec.\n",
    "3. Je copie le résultat du calcul dans la __valeur de retour__ (registre)."
   ]
  },
  {
   "cell_type": "markdown",
   "metadata": {
    "slideshow": {
     "slide_type": "slide"
    }
   },
   "source": [
    "### Avantage de passage à valeur\n",
    "- facile à écrire\n",
    "\n",
    "### Inconvénient de passage à valeur\n",
    "- copies des valeurs (`x` vers `z`) --> lent (ça dépend)"
   ]
  },
  {
   "cell_type": "markdown",
   "metadata": {
    "slideshow": {
     "slide_type": "slide"
    }
   },
   "source": [
    "## Passage par adresse\n",
    "\n",
    "L'argument est un __pointeur__:\n",
    "\n",
    "``\n",
    "void carre_par_adresse(int* px) {\n",
    "    (*px) = (*px) * (*px); // rappel: (*px) identique à x\n",
    "}``"
   ]
  },
  {
   "cell_type": "markdown",
   "metadata": {
    "slideshow": {
     "slide_type": "fragment"
    }
   },
   "source": [
    "``int main() {\n",
    "   int x = 3;\n",
    "   carre_par_adresse(&x);\n",
    "   printf(\"%d\",x);\n",
    "}\n",
    "``"
   ]
  },
  {
   "cell_type": "markdown",
   "metadata": {
    "slideshow": {
     "slide_type": "fragment"
    }
   },
   "source": [
    "1. Je fais le calcul directement avec `x`.\n",
    "2. Je manipule `x` via un pointeur."
   ]
  },
  {
   "cell_type": "markdown",
   "metadata": {
    "slideshow": {
     "slide_type": "slide"
    }
   },
   "source": [
    "### Avantage de passage par adresse\n",
    "- pas de copie --> rapide\n",
    "- on peut manipuler plusieurs valeurs!\n",
    "\n",
    "### Inconvénient de passage par adresse\n",
    "- plus difficile à écire\n"
   ]
  },
  {
   "cell_type": "markdown",
   "metadata": {
    "slideshow": {
     "slide_type": "slide"
    }
   },
   "source": [
    "# Boucles (suite)\n",
    "## Boucle for\n",
    "\n",
    "La structure suivante est extrèmement courrante :\n",
    "\n",
    "```\n",
    "int i = 1;\n",
    "while (i<=n) {\n",
    "  ... calcul ...\n",
    "  i = i+1;\n",
    "} \n",
    "```\n",
    "\n",
    "On execute la boucle pour toutes les valeurs entre `1` et `n`."
   ]
  },
  {
   "cell_type": "markdown",
   "metadata": {
    "slideshow": {
     "slide_type": "slide"
    }
   },
   "source": [
    "plus généralement :\n",
    "\n",
    "```\n",
    "<instruction1>\n",
    "while (<test>) {\n",
    "  ... calcul ...\n",
    "  <instruction2>\n",
    "} \n",
    "```"
   ]
  },
  {
   "cell_type": "markdown",
   "metadata": {
    "slideshow": {
     "slide_type": "fragment"
    }
   },
   "source": [
    "100% équivalent:\n",
    "```\n",
    "for (<instruction1>; <test>; <instruction2>) {\n",
    "  ... calcul ...\n",
    "} \n",
    "```"
   ]
  },
  {
   "cell_type": "markdown",
   "metadata": {
    "slideshow": {
     "slide_type": "fragment"
    }
   },
   "source": [
    "- `<instruction1>` est executé seulement une fois.\n",
    "- Après chaque `<instruction2>`, `<test>` est exectuté pour voir si on arrête la boucle."
   ]
  },
  {
   "cell_type": "markdown",
   "metadata": {
    "slideshow": {
     "slide_type": "slide"
    }
   },
   "source": [
    "## Exercice: Table de Multiplication\n",
    "\n",
    "Afficher une table de multiplication pour toutes les valeurs entre `1`x`1`et `n`x`n`."
   ]
  },
  {
   "cell_type": "markdown",
   "metadata": {
    "slideshow": {
     "slide_type": "fragment"
    }
   },
   "source": [
    "On commence avec les commentaires !"
   ]
  },
  {
   "cell_type": "code",
   "execution_count": 82,
   "metadata": {
    "slideshow": {
     "slide_type": "slide"
    }
   },
   "outputs": [],
   "source": [
    "int main() {\n",
    "    // Définir le nombre de tours n\n",
    "    // Si n négatif, on arrête\n",
    "    // Boucle: parcourir toutes les valeurs de i=1 à i=n\n",
    "        // Boucle: parcourir toutes les valeurs de j=1 à j=n\n",
    "            // afficher i x j = i*j\n",
    "}\n"
   ]
  },
  {
   "cell_type": "code",
   "execution_count": 88,
   "metadata": {
    "slideshow": {
     "slide_type": "slide"
    }
   },
   "outputs": [
    {
     "name": "stdout",
     "output_type": "stream",
     "text": [
      "1 x 1 =   1   1 x 2 =   2   1 x 3 =   3   1 x 4 =   4   1 x 5 =   5   \n",
      "2 x 1 =   2   2 x 2 =   4   2 x 3 =   6   2 x 4 =   8   2 x 5 =  10   \n",
      "3 x 1 =   3   3 x 2 =   6   3 x 3 =   9   3 x 4 =  12   3 x 5 =  15   \n",
      "4 x 1 =   4   4 x 2 =   8   4 x 3 =  12   4 x 4 =  16   4 x 5 =  20   \n",
      "5 x 1 =   5   5 x 2 =  10   5 x 3 =  15   5 x 4 =  20   5 x 5 =  25   \n"
     ]
    }
   ],
   "source": [
    "#include <stdio.h>\n",
    "int main() {\n",
    "    // Définir le nombre de tours n\n",
    "    int n = 5;\n",
    "    // Boucle: parcourir toutes les valeurs de i=1 à i=n\n",
    "    for (int i = 1;i<=n;++i) {\n",
    "        // Boucle: parcourir toutes les valeurs de j=1 à j=n\n",
    "        for (int j = 1; j <= n; ++j) {\n",
    "            // afficher i x j = i®*j\n",
    "            printf(\"%d x %d = %3d   \",i,j,i*j);\n",
    "        }\n",
    "        printf(\"\\n\");\n",
    "    }\n",
    "}\n"
   ]
  },
  {
   "cell_type": "markdown",
   "metadata": {
    "slideshow": {
     "slide_type": "slide"
    }
   },
   "source": [
    "## Boucle do-while\n",
    "\n",
    "La boucle __while__ est parfois pas très élégante :\n",
    "\n",
    "```\n",
    "#include <stdio.h>\n",
    "int main() {\n",
    "    int reponse;\n",
    "    printf(\"Entrez 4 pour quitter: \");\n",
    "    scanf(\"%d\",&reponse);\n",
    "    while (reponse!=4) {\n",
    "        scanf(\"%d\",&reponse);\n",
    "    } \n",
    "}\n",
    "```"
   ]
  },
  {
   "cell_type": "markdown",
   "metadata": {
    "slideshow": {
     "slide_type": "fragment"
    }
   },
   "source": [
    "`scanf`est écrit deux fois : deux fois plus de chance d'un bug"
   ]
  },
  {
   "cell_type": "markdown",
   "metadata": {
    "slideshow": {
     "slide_type": "slide"
    }
   },
   "source": [
    "variante : boucle `do`-`while` execute son corps au moins une fois"
   ]
  },
  {
   "cell_type": "markdown",
   "metadata": {
    "slideshow": {
     "slide_type": "fragment"
    }
   },
   "source": [
    "```\n",
    "#include <stdio.h>\n",
    "int main() {\n",
    "    int reponse;\n",
    "    printf(\"Entrez 4 pour quitter: \");\n",
    "    do {\n",
    "        scanf(\"%d\",&reponse);\n",
    "    } while (reponse!=4) \n",
    "}\n",
    "```"
   ]
  },
  {
   "cell_type": "markdown",
   "metadata": {
    "raw_mimetype": "text/markdown"
   },
   "source": [
    "<script>\n",
    "    console.log(\"Hello. You'll see this printed in your browser's DevTools / Console. Feel free to delete this line.\");\n",
    "    document.querySelector('head').innerHTML += '<style>.slides { zoom: 1.0 !important; }</style>';\n",
    "</script>"
   ]
  },
  {
   "cell_type": "code",
   "execution_count": null,
   "metadata": {},
   "outputs": [],
   "source": []
  }
 ],
 "metadata": {
  "celltoolbar": "Raw Cell Format",
  "kernelspec": {
   "display_name": "Python 3",
   "language": "python",
   "name": "python3"
  },
  "language_info": {
   "codemirror_mode": {
    "name": "ipython",
    "version": 3
   },
   "file_extension": ".py",
   "mimetype": "text/x-python",
   "name": "python",
   "nbconvert_exporter": "python",
   "pygments_lexer": "ipython3",
   "version": "3.7.3"
  },
  "rise": {
   "enable_chalkboard": true,
   "theme": "simple",
   "transition": "none"
  },
  "toc": {
   "base_numbering": 1,
   "nav_menu": {},
   "number_sections": true,
   "sideBar": true,
   "skip_h1_title": false,
   "title_cell": "Sommaire",
   "title_sidebar": "Sommaire",
   "toc_cell": true,
   "toc_position": {
    "height": "calc(100% - 180px)",
    "left": "10px",
    "top": "150px",
    "width": "261px"
   },
   "toc_section_display": true,
   "toc_window_display": true
  }
 },
 "nbformat": 4,
 "nbformat_minor": 2
}

{
 "cells": [
  {
   "cell_type": "markdown",
   "metadata": {
    "slideshow": {
     "slide_type": "slide"
    },
    "toc": true
   },
   "source": [
    "<h1>Sommaire<span class=\"tocSkip\"></span></h1>\n",
    "<div class=\"toc\"><ul class=\"toc-item\"><li><span><a href=\"#Variables-(suite)\" data-toc-modified-id=\"Variables-(suite)-1\"><span class=\"toc-item-num\">1&nbsp;&nbsp;</span>Variables (suite)</a></span><ul class=\"toc-item\"><li><span><a href=\"#Initialisation-des-variables\" data-toc-modified-id=\"Initialisation-des-variables-1.1\"><span class=\"toc-item-num\">1.1&nbsp;&nbsp;</span>Initialisation des variables</a></span></li><li><span><a href=\"#Limites-des-types-numériques\" data-toc-modified-id=\"Limites-des-types-numériques-1.2\"><span class=\"toc-item-num\">1.2&nbsp;&nbsp;</span>Limites des types numériques</a></span></li><li><span><a href=\"#Débordement\" data-toc-modified-id=\"Débordement-1.3\"><span class=\"toc-item-num\">1.3&nbsp;&nbsp;</span>Débordement</a></span></li><li><span><a href=\"#Conversion-implicite\" data-toc-modified-id=\"Conversion-implicite-1.4\"><span class=\"toc-item-num\">1.4&nbsp;&nbsp;</span>Conversion implicite</a></span><ul class=\"toc-item\"><li><span><a href=\"#Exemple-de-conversion-char-int\" data-toc-modified-id=\"Exemple-de-conversion-char-int-1.4.1\"><span class=\"toc-item-num\">1.4.1&nbsp;&nbsp;</span>Exemple de conversion char-int</a></span></li><li><span><a href=\"#Exemple-de-conversion-float-double\" data-toc-modified-id=\"Exemple-de-conversion-float-double-1.4.2\"><span class=\"toc-item-num\">1.4.2&nbsp;&nbsp;</span>Exemple de conversion float-double</a></span></li><li><span><a href=\"#Exemple-de-conversion-double-int\" data-toc-modified-id=\"Exemple-de-conversion-double-int-1.4.3\"><span class=\"toc-item-num\">1.4.3&nbsp;&nbsp;</span>Exemple de conversion double-int</a></span></li><li><span><a href=\"#Exemples-de-conversion-incorrecte\" data-toc-modified-id=\"Exemples-de-conversion-incorrecte-1.4.4\"><span class=\"toc-item-num\">1.4.4&nbsp;&nbsp;</span>Exemples de conversion incorrecte</a></span></li><li><span><a href=\"#Bug-méchant\" data-toc-modified-id=\"Bug-méchant-1.4.5\"><span class=\"toc-item-num\">1.4.5&nbsp;&nbsp;</span>Bug méchant</a></span></li></ul></li></ul></li><li><span><a href=\"#Operateurs-de-base-(suite)\" data-toc-modified-id=\"Operateurs-de-base-(suite)-2\"><span class=\"toc-item-num\">2&nbsp;&nbsp;</span>Operateurs de base (suite)</a></span><ul class=\"toc-item\"><li><span><a href=\"#Exponentiation\" data-toc-modified-id=\"Exponentiation-2.1\"><span class=\"toc-item-num\">2.1&nbsp;&nbsp;</span>Exponentiation</a></span></li></ul></li><li><span><a href=\"#Exercise:-Fonction-de-cryptage\" data-toc-modified-id=\"Exercise:-Fonction-de-cryptage-3\"><span class=\"toc-item-num\">3&nbsp;&nbsp;</span>Exercise: Fonction de cryptage</a></span></li><li><span><a href=\"#Examen\" data-toc-modified-id=\"Examen-4\"><span class=\"toc-item-num\">4&nbsp;&nbsp;</span>Examen</a></span></li></ul></div>"
   ]
  },
  {
   "cell_type": "markdown",
   "metadata": {
    "slideshow": {
     "slide_type": "slide"
    }
   },
   "source": [
    "# Variables (suite)\n",
    "\n"
   ]
  },
  {
   "cell_type": "markdown",
   "metadata": {
    "slideshow": {
     "slide_type": "slide"
    }
   },
   "source": [
    "## Initialisation des variables"
   ]
  },
  {
   "cell_type": "markdown",
   "metadata": {
    "slideshow": {
     "slide_type": "fragment"
    }
   },
   "source": [
    "Ce que donne,\n",
    "\n",
    "```int i;\n",
    "printf(\"%d\",i);```"
   ]
  },
  {
   "cell_type": "code",
   "execution_count": 64,
   "metadata": {
    "slideshow": {
     "slide_type": "slide"
    }
   },
   "outputs": [
    {
     "name": "stdout",
     "output_type": "stream",
     "text": [
      "0"
     ]
    }
   ],
   "source": [
    "#include <stdio.h>\n",
    "int main() {\n",
    "   int i;           // declaration sans initialisation\n",
    "   printf(\"%d\",i);\n",
    "}"
   ]
  },
  {
   "cell_type": "markdown",
   "metadata": {
    "slideshow": {
     "slide_type": "fragment"
    }
   },
   "source": [
    "__Attention__: On n'a pas forcément la valeur 0! Pourrait afficher `-98765`...\n",
    "\n",
    "C réserve la place dans la mémoire pour `i`, mais ne modifie pas le contenu des octets!"
   ]
  },
  {
   "cell_type": "markdown",
   "metadata": {
    "slideshow": {
     "slide_type": "slide"
    }
   },
   "source": [
    "Compiler avec `-Wall` permet d'attraper des fautes d'initialisation : \n",
    "\n",
    "```\n",
    "$ gcc -Wall test1.c\n",
    "test1.c: In function ‘main’:\n",
    "test1.c:3:4: warning: ‘i’ is used uninitialized in this function [-Wuninitialized]\n",
    "    printf(\"%d\",i);\n",
    "    ^~~~~~~~~~~~~~\n",
    "```\n",
    "\n",
    "Mieux initialiser tout de suite :\n",
    "```int i = 0;```"
   ]
  },
  {
   "cell_type": "markdown",
   "metadata": {
    "slideshow": {
     "slide_type": "slide"
    }
   },
   "source": [
    "## Limites des types numériques \n",
    "\n",
    "Chaque variable a une certain taille, donnée en nombre d'octets.\n",
    "\n",
    "Cela impose forcémenet des limites sur la plage de valeurs."
   ]
  },
  {
   "cell_type": "markdown",
   "metadata": {
    "slideshow": {
     "slide_type": "slide"
    }
   },
   "source": [
    "Les limites sont disponibles dans `limits.h`:"
   ]
  },
  {
   "cell_type": "code",
   "execution_count": 65,
   "metadata": {
    "slideshow": {
     "slide_type": "fragment"
    }
   },
   "outputs": [
    {
     "name": "stdout",
     "output_type": "stream",
     "text": [
      "The number of bits in a byte = 8\n",
      "The minimum value of INT = -2147483648\n",
      "The maximum value of INT = 2147483647\n"
     ]
    }
   ],
   "source": [
    "#include <stdio.h>\n",
    "#include <limits.h>\n",
    "\n",
    "int main() {\n",
    "   printf(\"The number of bits in a byte = %d\\n\", CHAR_BIT);\n",
    "   printf(\"The minimum value of INT = %d\\n\", INT_MIN);\n",
    "   printf(\"The maximum value of INT = %d\\n\", INT_MAX);\n",
    "  \n",
    "   return(0);\n",
    "}"
   ]
  },
  {
   "cell_type": "markdown",
   "metadata": {
    "slideshow": {
     "slide_type": "slide"
    }
   },
   "source": [
    "## Débordement\n",
    "\n",
    "Ce que donne:"
   ]
  },
  {
   "cell_type": "code",
   "execution_count": 66,
   "metadata": {
    "slideshow": {
     "slide_type": "fragment"
    }
   },
   "outputs": [
    {
     "name": "stdout",
     "output_type": "stream",
     "text": [
      "255\n",
      "0\n"
     ]
    }
   ],
   "source": [
    "#include <stdio.h>\n",
    "#include <limits.h>\n",
    "\n",
    "int main() {\n",
    "   unsigned char c = 255;\n",
    "   printf(\"%u\\n\", c);\n",
    "   c = c + 1;\n",
    "   printf(\"%u\\n\", c);\n",
    "}"
   ]
  },
  {
   "cell_type": "markdown",
   "metadata": {
    "slideshow": {
     "slide_type": "slide"
    }
   },
   "source": [
    "Ce que donne:"
   ]
  },
  {
   "cell_type": "code",
   "execution_count": 67,
   "metadata": {
    "slideshow": {
     "slide_type": "fragment"
    }
   },
   "outputs": [
    {
     "name": "stdout",
     "output_type": "stream",
     "text": [
      "2147483647\n",
      "-2147483648\n"
     ]
    }
   ],
   "source": [
    "#include <stdio.h>\n",
    "#include <limits.h>\n",
    "\n",
    "int main() {\n",
    "   int i = 2147483647;\n",
    "   printf(\"%d\\n\", i);\n",
    "   i = i + 1;\n",
    "   printf(\"%d\\n\", i);\n",
    "}"
   ]
  },
  {
   "cell_type": "markdown",
   "metadata": {
    "slideshow": {
     "slide_type": "slide"
    }
   },
   "source": [
    "## Conversion implicite\n",
    "\n",
    "Affecter un type de variable à un autre: conversion automatique. Exemple: <br>\n",
    "```unsigned char c; \n",
    "int i = 123; \n",
    "c = i; // ok pour entiers entre 0 et 255\n",
    "```\n"
   ]
  },
  {
   "cell_type": "code",
   "execution_count": 68,
   "metadata": {
    "slideshow": {
     "slide_type": "slide"
    }
   },
   "outputs": [
    {
     "name": "stdout",
     "output_type": "stream",
     "text": [
      "123"
     ]
    }
   ],
   "source": [
    "#include <stdio.h>\n",
    "int main() {\n",
    "   unsigned char c; \n",
    "   int i = 123; \n",
    "   c = i; // ok pour entiers entre 0 et 255\n",
    "   printf(\"%d\",c);\n",
    "}"
   ]
  },
  {
   "cell_type": "code",
   "execution_count": 69,
   "metadata": {
    "slideshow": {
     "slide_type": "slide"
    }
   },
   "outputs": [
    {
     "name": "stdout",
     "output_type": "stream",
     "text": [
      "123"
     ]
    }
   ],
   "source": [
    "#include <stdio.h>\n",
    "int main() {\n",
    "   unsigned char c; \n",
    "   int i = 256+123; \n",
    "   c = i; // ok pour entiers entre 0 et 255\n",
    "   printf(\"%d\",c);\n",
    "}"
   ]
  },
  {
   "cell_type": "markdown",
   "metadata": {
    "slideshow": {
     "slide_type": "slide"
    }
   },
   "source": [
    "```int i; \n",
    "double d = 3.4142;\n",
    "i = d; // ok entre -2147483648 et 2147483647\n",
    "```\n"
   ]
  },
  {
   "cell_type": "code",
   "execution_count": 71,
   "metadata": {
    "slideshow": {
     "slide_type": "slide"
    }
   },
   "outputs": [
    {
     "name": "stdout",
     "output_type": "stream",
     "text": [
      "3"
     ]
    }
   ],
   "source": [
    "#include <stdio.h>\n",
    "int main() {\n",
    "   int i; \n",
    "   double d = 3.4142;\n",
    "   i = d; // ok entre -2147483648 et 2147483647\n",
    "   printf(\"%d\",i);\n",
    "}"
   ]
  },
  {
   "cell_type": "code",
   "execution_count": 74,
   "metadata": {
    "slideshow": {
     "slide_type": "slide"
    }
   },
   "outputs": [
    {
     "name": "stdout",
     "output_type": "stream",
     "text": [
      "-2147483648"
     ]
    }
   ],
   "source": [
    "#include <stdio.h>\n",
    "int main() {\n",
    "   int i; \n",
    "   double d = 121474836480;\n",
    "   i = d; // ok entre -2147483648 et 2147483647\n",
    "   printf(\"%d\",i);\n",
    "}"
   ]
  },
  {
   "cell_type": "markdown",
   "metadata": {
    "slideshow": {
     "slide_type": "slide"
    }
   },
   "source": [
    "Conversion correcte si pas de perte d'information:\n",
    "- char -> int : 1 octet tient dans 4 octets\n",
    "- int -> double : 4 octets = 31 bits (+signe) tiennent dans les 52 bit de la mantisse \n",
    "\n",
    "__Attention aux autres cas: le résultat peut être complètement faux!__"
   ]
  },
  {
   "cell_type": "markdown",
   "metadata": {
    "slideshow": {
     "slide_type": "slide"
    }
   },
   "source": [
    "### Exemple de conversion char-int \n",
    "\n",
    "`printf(\"%d\",i)` : `%d` s'applique à un entier de type `int`.\n",
    "\n",
    "Si on l'appelle avec un `char`, celui est automatiquement converti en `int`."
   ]
  },
  {
   "cell_type": "code",
   "execution_count": 75,
   "metadata": {
    "slideshow": {
     "slide_type": "fragment"
    }
   },
   "outputs": [
    {
     "name": "stdout",
     "output_type": "stream",
     "text": [
      "127"
     ]
    }
   ],
   "source": [
    "#include <stdio.h>\n",
    "int main() {\n",
    "    char c = 127;\n",
    "    printf(\"%d\",c);\n",
    "}"
   ]
  },
  {
   "cell_type": "markdown",
   "metadata": {
    "slideshow": {
     "slide_type": "slide"
    }
   },
   "source": [
    "### Exemple de conversion float-double \n",
    "\n",
    "`printf(\"%f\",d)` : `%f` s'applique à un flottant de type `double`.\n",
    "\n",
    "Si on l'appelle avec un `float`, celui est automatiquement converti en `double`."
   ]
  },
  {
   "cell_type": "code",
   "execution_count": 76,
   "metadata": {
    "slideshow": {
     "slide_type": "fragment"
    }
   },
   "outputs": [
    {
     "name": "stdout",
     "output_type": "stream",
     "text": [
      "1.230000"
     ]
    }
   ],
   "source": [
    "#include <stdio.h>\n",
    "int main() {\n",
    "    float f = 1.23;\n",
    "    printf(\"%f\",f);\n",
    "}"
   ]
  },
  {
   "cell_type": "markdown",
   "metadata": {
    "slideshow": {
     "slide_type": "slide"
    }
   },
   "source": [
    "### Exemple de conversion double-int"
   ]
  },
  {
   "cell_type": "code",
   "execution_count": 78,
   "metadata": {
    "slideshow": {
     "slide_type": "fragment"
    }
   },
   "outputs": [
    {
     "name": "stdout",
     "output_type": "stream",
     "text": [
      "2"
     ]
    }
   ],
   "source": [
    "#include <stdio.h>\n",
    "void afficher(int x) {\n",
    "    printf(\"%d\",x);\n",
    "}\n",
    "int main() {\n",
    "    double f = 2.34;\n",
    "    afficher(f);\n",
    "}"
   ]
  },
  {
   "cell_type": "markdown",
   "metadata": {
    "slideshow": {
     "slide_type": "slide"
    }
   },
   "source": [
    "### Exemples de conversion incorrecte"
   ]
  },
  {
   "cell_type": "code",
   "execution_count": 79,
   "metadata": {
    "slideshow": {
     "slide_type": "fragment"
    }
   },
   "outputs": [
    {
     "name": "stdout",
     "output_type": "stream",
     "text": [
      "-1234 -> 46"
     ]
    }
   ],
   "source": [
    "#include <stdio.h>\n",
    "int main() {\n",
    "    int i = -1234;\n",
    "    char c = i;\n",
    "    printf(\"%d -> %d\",i,c);\n",
    "}"
   ]
  },
  {
   "cell_type": "code",
   "execution_count": 80,
   "metadata": {
    "slideshow": {
     "slide_type": "slide"
    }
   },
   "outputs": [
    {
     "name": "stdout",
     "output_type": "stream",
     "text": [
      "1e+10 -> -2147483648"
     ]
    }
   ],
   "source": [
    "#include <stdio.h>\n",
    "int main() {\n",
    "    double z = 1e10;\n",
    "    int i = z;\n",
    "    printf(\"%g -> %d\",z,i);\n",
    "}"
   ]
  },
  {
   "cell_type": "markdown",
   "metadata": {
    "slideshow": {
     "slide_type": "slide"
    }
   },
   "source": [
    "### Bug méchant"
   ]
  },
  {
   "cell_type": "markdown",
   "metadata": {
    "slideshow": {
     "slide_type": "slide"
    }
   },
   "source": [
    "C'est quoi le problême?\n",
    "\n",
    "```\n",
    "#include <stdio.h>\n",
    "int main() {\n",
    "   unsigned int i;\n",
    "   for (i = 3; i >= 0; i=i-1) {\n",
    "      printf(\"i = %u\\n\", i); \n",
    "  }\n",
    "}\n",
    "```"
   ]
  },
  {
   "cell_type": "markdown",
   "metadata": {
    "slideshow": {
     "slide_type": "fragment"
    }
   },
   "source": [
    "``\n",
    "i = 3\n",
    "i = 2\n",
    "i = 1\n",
    "i = 0\n",
    "i = 4294967295\n",
    "i = 4294967294\n",
    "``..."
   ]
  },
  {
   "cell_type": "markdown",
   "metadata": {
    "slideshow": {
     "slide_type": "slide"
    }
   },
   "source": [
    "Version plus méchante :\n",
    "\n",
    "```\n",
    "#include <stdio.h>\n",
    "int main() {\n",
    "   unsigned int i;\n",
    "   for (i = 3; i >= 0; i=i-1) {\n",
    "      printf(\"i = %d\\n\", i); \n",
    "  }\n",
    "}\n",
    "```"
   ]
  },
  {
   "cell_type": "markdown",
   "metadata": {
    "slideshow": {
     "slide_type": "fragment"
    }
   },
   "source": [
    "``\n",
    "i = 3\n",
    "i = 2\n",
    "i = 1\n",
    "i = 0\n",
    "i = -1\n",
    "i = -2\n",
    "``..."
   ]
  },
  {
   "cell_type": "markdown",
   "metadata": {
    "slideshow": {
     "slide_type": "slide"
    }
   },
   "source": [
    "# Operateurs de base (suite)\n"
   ]
  },
  {
   "cell_type": "markdown",
   "metadata": {
    "slideshow": {
     "slide_type": "slide"
    }
   },
   "source": [
    "## Exponentiation\n",
    "- __attention__: `x ^ y` = opération logique \"ou exclusif\"!"
   ]
  },
  {
   "cell_type": "code",
   "execution_count": 81,
   "metadata": {
    "slideshow": {
     "slide_type": "fragment"
    }
   },
   "outputs": [
    {
     "name": "stderr",
     "output_type": "stream",
     "text": [
      "/tmp/tmpmkwja3_8.c: In function ‘main’:\n",
      "/tmp/tmpmkwja3_8.c:5:19: error: invalid operands to binary ^ (have ‘double’ and ‘double’)\n",
      "    printf(\"%f\", x ^ y);\n",
      "                   ^\n",
      "[C kernel] GCC exited with code 1, the executable will not be executed"
     ]
    }
   ],
   "source": [
    "#include <stdio.h>\n",
    "int main() {\n",
    "   double x = 2;\n",
    "   double y = 3;\n",
    "   printf(\"%f\", x ^ y);\n",
    "}"
   ]
  },
  {
   "cell_type": "markdown",
   "metadata": {
    "slideshow": {
     "slide_type": "slide"
    }
   },
   "source": [
    "- utiliser `pow` de math.h\n",
    "\n",
    "```\n",
    "#include <stdio.h>\n",
    "#include <math.h>     // pour pow\n",
    "int main() {\n",
    "   double x = 2;\n",
    "   double y = 3;\n",
    "   printf(\"%f\", pow(x,y) );\n",
    "}\n",
    "```"
   ]
  },
  {
   "cell_type": "markdown",
   "metadata": {
    "slideshow": {
     "slide_type": "slide"
    }
   },
   "source": [
    "```gcc test3.c```\n",
    "```\n",
    "/tmp/cceMWz9n.o : Dans la fonction « main » :\n",
    "test3.c:(.text+0x39) : référence indéfinie vers « pow »\n",
    "test3.c:(.text+0x65) : référence indéfinie vers « pow »\n",
    "collect2: error: ld returned 1 exit status\n",
    "```\n",
    "C'est quoi le problème?"
   ]
  },
  {
   "cell_type": "markdown",
   "metadata": {
    "slideshow": {
     "slide_type": "fragment"
    }
   },
   "source": [
    "C'est le __linker__ (ld) qui rale. Les fonctions dans `math.h`sont déjà précompilées dans un fichier `m`.\n",
    "\n",
    "Il faut dire au linker de les retrouver dans `m`:\n",
    "\n",
    "```gcc -l m test3.c```"
   ]
  },
  {
   "cell_type": "code",
   "execution_count": 82,
   "metadata": {
    "slideshow": {
     "slide_type": "slide"
    }
   },
   "outputs": [
    {
     "name": "stdout",
     "output_type": "stream",
     "text": [
      "8.000000"
     ]
    }
   ],
   "source": [
    "//%cflags:-l m\n",
    "#include <stdio.h>\n",
    "#include <math.h>\n",
    "int main() {\n",
    "   double x = 2;\n",
    "   double y = 3;\n",
    "   printf(\"%f\", pow(x,y));\n",
    "}"
   ]
  },
  {
   "cell_type": "markdown",
   "metadata": {
    "slideshow": {
     "slide_type": "slide"
    }
   },
   "source": [
    "# Exercise: Fonction de cryptage\n",
    "\n",
    "Ecrire une fonction `crypter` qui prend en argument une chaîne et une clé `c`, et qui donne\n",
    "en valeur de retour la chaîne crypté (sans détruire l'original). Les caractères sont cryptés en additionnant `c`."
   ]
  },
  {
   "cell_type": "code",
   "execution_count": null,
   "metadata": {
    "slideshow": {
     "slide_type": "slide"
    }
   },
   "outputs": [],
   "source": [
    "#include <stdio.h>\n",
    "#include <stdlib.h>\n",
    "#include <string.h>\n",
    "char* crypter(char* chaine,int cle){\n",
    "    // 1. réserver la mémoire pour la chaine cryptée\n",
    "    // 2. pour chaque lettre x dans chaine,\n",
    "    //    écrire x+cle dans la chaine cryptée\n",
    "    // 3. retourner le pointeur vers la chaine cryptée\n",
    "}\n",
    "int main() {\n",
    "    char* orig = \"ENSTA\";\n",
    "    char* cryp = crypter(orig,3);\n",
    "    printf(\"%s\\n\",cryp);\n",
    "}"
   ]
  },
  {
   "cell_type": "code",
   "execution_count": null,
   "metadata": {
    "slideshow": {
     "slide_type": "slide"
    }
   },
   "outputs": [],
   "source": [
    "#include <stdio.h>\n",
    "#include <stdlib.h>\n",
    "#include <string.h>\n",
    "char* crypter(char* chaine,int cle){\n",
    "    int longueur = strlen(chaine);\n",
    "    char* chaine_cryptee = malloc(sizeof(char)*longueur);\n",
    "    for (int i=0; chaine[i]!=0; ++i) {\n",
    "        chaine_cryptee[i] = chaine[i]+cle;\n",
    "    }\n",
    "    return chaine_cryptee;\n",
    "}\n",
    "int main() {\n",
    "    char* orig = \"ENSTA\";\n",
    "    char* cryp = crypter(orig,3);\n",
    "    printf(\"%s\\n\",cryp);\n",
    "}"
   ]
  },
  {
   "cell_type": "code",
   "execution_count": null,
   "metadata": {
    "slideshow": {
     "slide_type": "slide"
    }
   },
   "outputs": [],
   "source": [
    "#include <stdio.h>\n",
    "#include <stdlib.h>\n",
    "#include <string.h>\n",
    "char* crypter(char* chaine,int cle){\n",
    "    int longueur = strlen(chaine);\n",
    "    char* chaine_cryptee = malloc(sizeof(char)*longueur);\n",
    "    for (int i=0; chaine[i]!=0; ++i) {\n",
    "        chaine_cryptee[i] = chaine[i]+cle;\n",
    "    }\n",
    "    return chaine_cryptee;\n",
    "}\n",
    "int main() {\n",
    "    char* orig = \"ENSTA\";\n",
    "    char* cryp = crypter(orig,3);\n",
    "    printf(\"%s\\n\",cryp);\n",
    "    char* decryp = crypter(cryp,-3);\n",
    "    printf(\"%s\\n\",decryp);\n",
    "}"
   ]
  },
  {
   "cell_type": "code",
   "execution_count": null,
   "metadata": {
    "slideshow": {
     "slide_type": "slide"
    }
   },
   "outputs": [],
   "source": [
    "#include <stdio.h>\n",
    "#include <stdlib.h>\n",
    "#include <string.h>\n",
    "char* crypter(char* chaine,int cle){\n",
    "    int longueur = strlen(chaine);\n",
    "    char* chaine_cryptee = malloc(sizeof(char)*longueur);\n",
    "    for (int i=0; chaine[i]!=0; ++i) {\n",
    "        chaine_cryptee[i] = chaine[i]+cle;\n",
    "    }\n",
    "    return chaine_cryptee;\n",
    "}\n",
    "int main() {\n",
    "    char* orig = \"ENSTA\";\n",
    "    char* cryp = crypter(orig,3);\n",
    "    printf(\"%s\\n\",cryp);\n",
    "    char* decryp = crypter(cryp,-3);\n",
    "    printf(\"%s\\n\",decryp);\n",
    "    free(decryp); // libérer la mémoire!\n",
    "}"
   ]
  },
  {
   "cell_type": "markdown",
   "metadata": {
    "slideshow": {
     "slide_type": "slide"
    }
   },
   "source": [
    "# Examen\n",
    "\n",
    "- pour préparer, refaire les TD\n",
    "    - cette année, pas de question sur matrices\n",
    "- struct\n",
    "- tableaux\n",
    "- passage par valeur, passage par adresse\n",
    "- fonctions qui donnent des tableaux (comment?)\n",
    "- connaître argv et atoi\n",
    "- malloc et free"
   ]
  },
  {
   "cell_type": "code",
   "execution_count": null,
   "metadata": {},
   "outputs": [],
   "source": []
  }
 ],
 "metadata": {
  "celltoolbar": "Slideshow",
  "kernelspec": {
   "display_name": "C",
   "language": "c",
   "name": "c"
  },
  "language_info": {
   "file_extension": ".c",
   "mimetype": "text/plain",
   "name": "c"
  },
  "rise": {
   "enable_chalkboard": true,
   "theme": "simple",
   "transition": "none"
  },
  "toc": {
   "base_numbering": 1,
   "nav_menu": {},
   "number_sections": true,
   "sideBar": true,
   "skip_h1_title": false,
   "title_cell": "Sommaire",
   "title_sidebar": "Sommaire",
   "toc_cell": true,
   "toc_position": {
    "height": "calc(100% - 180px)",
    "left": "10px",
    "top": "150px",
    "width": "261px"
   },
   "toc_section_display": true,
   "toc_window_display": false
  }
 },
 "nbformat": 4,
 "nbformat_minor": 2
}

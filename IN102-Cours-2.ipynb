{
 "cells": [
  {
   "cell_type": "markdown",
   "metadata": {
    "slideshow": {
     "slide_type": "slide"
    },
    "toc": true
   },
   "source": [
    "<h1>Sommaire<span class=\"tocSkip\"></span></h1>\n",
    "<div class=\"toc\"><ul class=\"toc-item\"><li><span><a href=\"#Variables-(suite)\" data-toc-modified-id=\"Variables-(suite)-1\"><span class=\"toc-item-num\">1&nbsp;&nbsp;</span>Variables (suite)</a></span><ul class=\"toc-item\"><li><span><a href=\"#Portée-des-variables\" data-toc-modified-id=\"Portée-des-variables-1.1\"><span class=\"toc-item-num\">1.1&nbsp;&nbsp;</span>Portée des variables</a></span></li></ul></li><li><span><a href=\"#Pointeurs\" data-toc-modified-id=\"Pointeurs-2\"><span class=\"toc-item-num\">2&nbsp;&nbsp;</span>Pointeurs</a></span></li><li><span><a href=\"#Fonctions\" data-toc-modified-id=\"Fonctions-3\"><span class=\"toc-item-num\">3&nbsp;&nbsp;</span>Fonctions</a></span><ul class=\"toc-item\"><li><span><a href=\"#Exercice-:-Conversion-Fahrenheit-Celsius-dans-une-fonction\" data-toc-modified-id=\"Exercice-:-Conversion-Fahrenheit-Celsius-dans-une-fonction-3.1\"><span class=\"toc-item-num\">3.1&nbsp;&nbsp;</span>Exercice : Conversion Fahrenheit-Celsius dans une fonction</a></span></li><li><span><a href=\"#Encapsuler-l'affichage\" data-toc-modified-id=\"Encapsuler-l'affichage-3.2\"><span class=\"toc-item-num\">3.2&nbsp;&nbsp;</span>Encapsuler l'affichage</a></span></li><li><span><a href=\"#Fonctions-qui-manipulent-leurs-arguments\" data-toc-modified-id=\"Fonctions-qui-manipulent-leurs-arguments-3.3\"><span class=\"toc-item-num\">3.3&nbsp;&nbsp;</span>Fonctions qui manipulent leurs arguments</a></span></li><li><span><a href=\"#Prototype-de-fonction\" data-toc-modified-id=\"Prototype-de-fonction-3.4\"><span class=\"toc-item-num\">3.4&nbsp;&nbsp;</span>Prototype de fonction</a></span></li></ul></li><li><span><a href=\"#Lire-des-Entrées-au-Clavier\" data-toc-modified-id=\"Lire-des-Entrées-au-Clavier-4\"><span class=\"toc-item-num\">4&nbsp;&nbsp;</span>Lire des Entrées au Clavier</a></span></li><li><span><a href=\"#Boucle-for\" data-toc-modified-id=\"Boucle-for-5\"><span class=\"toc-item-num\">5&nbsp;&nbsp;</span>Boucle for</a></span></li><li><span><a href=\"#Exercice:-print-fait-maison\" data-toc-modified-id=\"Exercice:-print-fait-maison-6\"><span class=\"toc-item-num\">6&nbsp;&nbsp;</span>Exercice: print fait maison</a></span></li><li><span><a href=\"#Salles-le-8-novembre\" data-toc-modified-id=\"Salles-le-8-novembre-7\"><span class=\"toc-item-num\">7&nbsp;&nbsp;</span>Salles le 8 novembre</a></span></li></ul></div>"
   ]
  },
  {
   "cell_type": "markdown",
   "metadata": {
    "slideshow": {
     "slide_type": "slide"
    }
   },
   "source": [
    "# Variables (suite)\n",
    "\n"
   ]
  },
  {
   "cell_type": "markdown",
   "metadata": {
    "slideshow": {
     "slide_type": "slide"
    }
   },
   "source": [
    "## Portée des variables\n",
    "\n",
    "Une variable dans un bloc `{`... `}` est reconnue seulement dans ce bloc:\n",
    "\n",
    "``{ \n",
    "   int i = 123;\n",
    "}\n",
    "``\n",
    "\n",
    "On l'appele une variable __locale__.\n",
    "\n",
    "Les variables qui ne sont dans aucun bloc sont des variables __globales__, disponibles partout dans le programme. Les variables globales entraînent facilement des bugs, donc on __préfère des variables locales__."
   ]
  },
  {
   "cell_type": "markdown",
   "metadata": {
    "slideshow": {
     "slide_type": "slide"
    }
   },
   "source": [
    "Elle est distinct des autres variables en dehors du bloc, même des celles qui portent le même nom.\n",
    "\n",
    "``\n",
    "int i = -7;\n",
    "{ \n",
    "   int i = 123;\n",
    "   printf(\"%d \",i);\n",
    "}\n",
    "printf(\"%d \",i);\n",
    "``\n",
    "\n",
    "affiche: `123 -7`\n",
    "\n",
    "La variable est 'détruite' à la fin du bloc : la place réservée pour la mémoire est libérée et peut désormais être utilisée pour d'autres variables."
   ]
  },
  {
   "cell_type": "markdown",
   "metadata": {
    "slideshow": {
     "slide_type": "slide"
    }
   },
   "source": [
    "Les blocs peuvent être imbriqués :\n",
    "\n",
    "``\n",
    "int i = 4;\n",
    "{ \n",
    "    int i = -7;\n",
    "    { \n",
    "       int i = 123;\n",
    "       printf(\"%d \",i);\n",
    "    }\n",
    "    printf(\"%d \",i);\n",
    "}\n",
    "printf(\"%d \",i);\n",
    "``\n",
    "\n",
    "affiche: `123 -7 4`\n"
   ]
  },
  {
   "cell_type": "markdown",
   "metadata": {
    "slideshow": {
     "slide_type": "slide"
    }
   },
   "source": [
    "# Pointeurs\n",
    "\n",
    "Chaque variable est stocké dans la mémoire à une adresse réservée pour elle toute seule.\n",
    "\n",
    "Cette adresse est un nombre entier positif, sur 32 ou 64 bit (selon la machine).\n",
    "\n",
    "```\n",
    "int i = 123;\n",
    "double x = 0.1;\n",
    "```\n",
    "\n",
    "| variable  | adresse | contenu |\n",
    "| -- | -- | -- |\n",
    "| x |1028 |  0.1  |\n",
    "| i | 1024 | 123 | "
   ]
  },
  {
   "cell_type": "markdown",
   "metadata": {
    "slideshow": {
     "slide_type": "slide"
    }
   },
   "source": [
    "On peut faire des calculs très malin si on stocke cette adresse aussi dans une variable : un __pointeur__.\n",
    "\n",
    "Un pointeur est une variable qui contient l'adresse de mémoire d'une autre variable. \n",
    "\n",
    "Un pointeur a le type de la variable cible, suivi par `*`: `int* px`\n",
    "\n",
    "On obtient l'adresse du cible avec `&`: `px = &x`"
   ]
  },
  {
   "cell_type": "markdown",
   "metadata": {
    "slideshow": {
     "slide_type": "slide"
    }
   },
   "source": [
    "\n",
    "\n",
    "```\n",
    "int i = 123;\n",
    "double x = 0.1;\n",
    "int* pi = &i;   // pointer vers i\n",
    "double* px = &x;   // pointer vers x\n",
    "\n",
    "```\n",
    "| variable  | adresse | contenu |\n",
    "| -- | -- | -- |\n",
    "| px |1044 | 1028 |\n",
    "| pi |1036 | 1024 |\n",
    "| x |1028 |  0.1  |\n",
    "| i | 1024 | 123 | \n",
    "\n"
   ]
  },
  {
   "cell_type": "markdown",
   "metadata": {
    "slideshow": {
     "slide_type": "slide"
    }
   },
   "source": [
    "Un pointeur peut pointer vers un autre pointeur:\n",
    "\n",
    "```\n",
    "int i = 123;\n",
    "double x = 0.1;\n",
    "int* pi = &i;   // pointeur vers i\n",
    "double* px = &x;   // pointeur vers x\n",
    "double** ppx = &px; // pointeur vers px\n",
    "```\n",
    "\n",
    "| variable  | adresse | contenu |\n",
    "| -- | -- | -- |\n",
    "| ppx |1052 | 1044 |\n",
    "| px |1044 | 1028 |\n",
    "| pi |1036 | 1024 |\n",
    "| x |1028 |  0.1  |\n",
    "| i | 1024 | 123 | \n",
    "</style>"
   ]
  },
  {
   "cell_type": "code",
   "execution_count": 45,
   "metadata": {
    "slideshow": {
     "slide_type": "slide"
    }
   },
   "outputs": [],
   "source": [
    "int main() {\n",
    "    int i = 123;\n",
    "    double x = 0.1;\n",
    "    int* pi = &i;   // pointeur vers i\n",
    "    double* px = &x;   // pointeur vers x\n",
    "    double** ppx = &px; // pointeur vers px\n",
    "}"
   ]
  },
  {
   "cell_type": "markdown",
   "metadata": {
    "slideshow": {
     "slide_type": "slide"
    }
   },
   "source": [
    "Avec un pointeur on peut modifier la variable cible ajoutant un `&` devant le pointeur :\n",
    "\n",
    "```\n",
    "int i = 123;\n",
    "double x = 0.1;\n",
    "int* pi = &i;   // pointeur vers i\n",
    "```\n",
    "\n",
    "| variable  | adresse | contenu |\n",
    "| -- | -- | -- |\n",
    "| pi |1036 | 1024 |\n",
    "| x |1028 |  0.1  |\n",
    "| i | 1024 | 123 | "
   ]
  },
  {
   "cell_type": "markdown",
   "metadata": {
    "slideshow": {
     "slide_type": "fragment"
    }
   },
   "source": [
    "\n",
    "```\n",
    "*pi = -7;\n",
    "```\n",
    "\n",
    "| variable  | adresse | contenu |\n",
    "| -- | -- | -- |\n",
    "| pi |1036 | 1024 |\n",
    "| x |1028 |  0.1  |\n",
    "| i | 1024 | -7 | "
   ]
  },
  {
   "cell_type": "markdown",
   "metadata": {
    "slideshow": {
     "slide_type": "slide"
    }
   },
   "source": [
    "__a retenir :__\n",
    "\n",
    "pointeur à partir d'une variable : __`&x`__\n",
    "\n",
    "variable à partir d'un pointeur : __`*px`__\n",
    "\n",
    "\n",
    "\n",
    "Les pointeurs seront essentiel pour les fonctions..."
   ]
  },
  {
   "cell_type": "markdown",
   "metadata": {
    "slideshow": {
     "slide_type": "slide"
    }
   },
   "source": [
    "# Fonctions"
   ]
  },
  {
   "cell_type": "markdown",
   "metadata": {
    "slideshow": {
     "slide_type": "fragment"
    }
   },
   "source": [
    "Format d'une fonction :\n",
    "\n",
    "...type de retour... `nom_de_fonction` `(` ... arguments ... `)` `{`\n",
    "\n",
    "    ... instructions ...\n",
    "\n",
    "`}`"
   ]
  },
  {
   "cell_type": "markdown",
   "metadata": {
    "slideshow": {
     "slide_type": "fragment"
    }
   },
   "source": [
    "Les arguments sont des variables locales dont la portée est le bloc de la fonction:\n",
    "\n",
    "``\n",
    "int carre (int x) {\n",
    "  return x * x;\n",
    "}\n",
    "``"
   ]
  },
  {
   "cell_type": "markdown",
   "metadata": {
    "slideshow": {
     "slide_type": "slide"
    }
   },
   "source": [
    "## Exercice : Conversion Fahrenheit-Celsius dans une fonction"
   ]
  },
  {
   "cell_type": "code",
   "execution_count": 23,
   "metadata": {
    "slideshow": {
     "slide_type": "subslide"
    }
   },
   "outputs": [
    {
     "name": "stdout",
     "output_type": "stream",
     "text": [
      "80.00 F -> 26.67 C\n"
     ]
    }
   ],
   "source": [
    "#include <stdio.h>  /* Pour acceder a printf. */\n",
    "\n",
    "int main () {\n",
    "  double x = 80;                        // temperature en Fahrenheit\n",
    "  double y = 5.0 / 9 * x - 160.0 / 9;\n",
    "  printf (\"%.2f F -> %.2f C\\n\", x, y) ;\n",
    "\n",
    "  return 0;\n",
    "}"
   ]
  },
  {
   "cell_type": "code",
   "execution_count": 1,
   "metadata": {
    "slideshow": {
     "slide_type": "slide"
    }
   },
   "outputs": [
    {
     "name": "stdout",
     "output_type": "stream",
     "text": [
      "80.00 F -> 26.67 C\n"
     ]
    }
   ],
   "source": [
    "#include <stdio.h>  /* Pour acceder a printf. */\n",
    "\n",
    "/* Convertir un température x de Fahrenheit en Celsius */\n",
    "double F2C(double x) {\n",
    "  double y = 5.0 / 9 * x - 160.0 / 9;\n",
    "  return y;\n",
    "} \n",
    "\n",
    "int main () {\n",
    "  double x = 80;                        // temperature en Fahrenheit\n",
    "  double y = F2C(x);\n",
    "  printf (\"%.2f F -> %.2f C\\n\", x, y) ;\n",
    "\n",
    "  return 0;\n",
    "}"
   ]
  },
  {
   "cell_type": "markdown",
   "metadata": {
    "slideshow": {
     "slide_type": "slide"
    }
   },
   "source": [
    "```\n",
    "double F2C(double x) {\n",
    "    double y = 5.0 / 9 * x - 160.0 / 9;\n",
    "    return y;\n",
    "} \n",
    "int main () {\n",
    "<@> double x = 80; // x est alloué 8 octets et 80 y est copiée                       \n",
    "    double y = F2C(x);\n",
    "    printf (\"%.2f F -> %.2f C\\n\", x, y) ;\n",
    "    return 0;\n",
    "}\n",
    "```\n",
    "| variable  | adresse | contenu |\n",
    "| -- | -- | -- |\n",
    "| x (main) |1028 |  80  |\n"
   ]
  },
  {
   "cell_type": "markdown",
   "metadata": {
    "slideshow": {
     "slide_type": "slide"
    }
   },
   "source": [
    "```\n",
    "double F2C(double x) {\n",
    "<@> // la variable locale x est crée, \n",
    "    // et la valeur de l'argument effectif y est copié\n",
    "    double y = 5.0 / 9 * x - 160.0 / 9;\n",
    "    return y;\n",
    "} \n",
    "int main () {\n",
    "    double x = 80;                       \n",
    "    double y = <@>F2C(x);\n",
    "    printf (\"%.2f F -> %.2f C\\n\", x, y) ;\n",
    "    return 0;\n",
    "}\n",
    "\n",
    "```\n",
    "| variable  | adresse | contenu |\n",
    "| -- | -- | -- |\n",
    "| x (F2C) |1044 |  80  |\n",
    "| y (main) |1036 |  ???  |\n",
    "| x (main) |1028 |  80  |\n"
   ]
  },
  {
   "cell_type": "markdown",
   "metadata": {
    "slideshow": {
     "slide_type": "slide"
    }
   },
   "source": [
    "```\n",
    "double F2C(double x) {\n",
    "<@> double y = 5.0 / 9 * x - 160.0 / 9; // y est créé et affecté sa valeur\n",
    "    return y;\n",
    "} \n",
    "int main () {\n",
    "    double x = 80;                       \n",
    "    double y = <@>F2C(x);\n",
    "    printf (\"%.2f F -> %.2f C\\n\", x, y) ;\n",
    "    return 0;\n",
    "}\n",
    "```\n",
    "| variable  | adresse | contenu (4 octets) |\n",
    "| -- | -- | -- |\n",
    "| y (F2C) |1052 |  26.66667  |\n",
    "| x (F2C) |1044 |  80  |\n",
    "| y (main) |1036 |  ???  |\n",
    "| x (main) |1028 |  80  |\n"
   ]
  },
  {
   "cell_type": "markdown",
   "metadata": {
    "slideshow": {
     "slide_type": "slide"
    }
   },
   "source": [
    "```\n",
    "double F2C(double x) {\n",
    "    double y = 5.0 / 9 * x - 160.0 / 9;\n",
    "<@> return y; // la valeur de retour est copié dans un tampon (registre)\n",
    "} \n",
    "int main () {\n",
    "    double x = 80;                       \n",
    "    double y = <@>F2C(x);\n",
    "    printf (\"%.2f F -> %.2f C\\n\", x, y) ;\n",
    "    return 0;\n",
    "}\n",
    "```\n",
    "| variable  | adresse | contenu |\n",
    "| -- | -- | -- |\n",
    "| val. retour | registre |  26.66667  |\n",
    "| y (F2C) |1052 |  26.66667  |\n",
    "| x (F2C) |1044 |  80  |\n",
    "| y (main) |1036 |  ???  |\n",
    "| x (main) |1028 |  80  |\n"
   ]
  },
  {
   "cell_type": "markdown",
   "metadata": {
    "slideshow": {
     "slide_type": "slide"
    }
   },
   "source": [
    "```\n",
    "double F2C(double x) {\n",
    "    double y = 5.0 / 9 * x - 160.0 / 9;\n",
    "    return y;\n",
    "<@> } // fin du bloc : variables locales libérées\n",
    "int main () {\n",
    "    double x = 80;                       \n",
    "    double y = <@>F2C(x);\n",
    "    printf (\"%.2f F -> %.2f C\\n\", x, y) ;\n",
    "    return 0;\n",
    "}\n",
    "```\n",
    "| variable  | adresse | contenu |\n",
    "| -- | -- | -- |\n",
    "| val. retour | registre |  26.66667  |\n",
    "| y (main) |1036 |  ???  |\n",
    "| x (main) |1028 |  80  |\n"
   ]
  },
  {
   "cell_type": "markdown",
   "metadata": {
    "slideshow": {
     "slide_type": "slide"
    }
   },
   "source": [
    "```\n",
    "double F2C(double x) {\n",
    "    double y = 5.0 / 9 * x - 160.0 / 9;\n",
    "    return y;\n",
    "} \n",
    "int main () {\n",
    "    double x = 80;                       \n",
    "<@> double y = F2C(x); // val. de retour copié dans y\n",
    "    printf (\"%.2f F -> %.2f C\\n\", x, y) ;\n",
    "    return 0;\n",
    "}\n",
    "```\n",
    "| variable  | adresse | contenu (4 octets) |\n",
    "| -- | -- | -- |\n",
    "| y (main) |1036 |  26.66667  |\n",
    "| x (main) |1028 |  80  |\n"
   ]
  },
  {
   "cell_type": "markdown",
   "metadata": {
    "slideshow": {
     "slide_type": "slide"
    }
   },
   "source": [
    "## Encapsuler l'affichage\n",
    "\n",
    "une fonction qui ne donne pas de valeur de retour : `void`"
   ]
  },
  {
   "cell_type": "code",
   "execution_count": 12,
   "metadata": {
    "slideshow": {
     "slide_type": "fragment"
    }
   },
   "outputs": [
    {
     "name": "stdout",
     "output_type": "stream",
     "text": [
      "80.00 F -> 26.67 C\n"
     ]
    }
   ],
   "source": [
    "#include <stdio.h>  /* Pour acceder a printf. */\n",
    "\n",
    "/* Convertir un température x de Fahrenheit en Celsius */\n",
    "double Fahrenheit2Celsius(double x) {\n",
    "  double y = 5.0 / 9 * x - 160.0 / 9;\n",
    "  return y;\n",
    "} \n",
    "\n",
    "int main ()\n",
    "{\n",
    "  double x = 80;                        // temperature en Fahrenheit\n",
    "  double y = Fahrenheit2Celsius(x);\n",
    "  printf (\"%.2f F -> %.2f C\\n\", x, y) ;\n",
    "\n",
    "  return 0;\n",
    "}"
   ]
  },
  {
   "cell_type": "code",
   "execution_count": 21,
   "metadata": {
    "slideshow": {
     "slide_type": "slide"
    }
   },
   "outputs": [
    {
     "name": "stdout",
     "output_type": "stream",
     "text": [
      "80.00 F -> 26.67 C\n"
     ]
    }
   ],
   "source": [
    "#include <stdio.h>  /* Pour acceder a printf. */\n",
    "\n",
    "/* Convertir un température x de Fahrenheit en Celsius */\n",
    "double Fahrenheit2Celsius(double x) {\n",
    "  double y = 5.0 / 9 * x - 160.0 / 9;\n",
    "  return y;\n",
    "} \n",
    "\n",
    "/* Afficher le résultat */\n",
    "void afficher_resultat(double x, double y) {\n",
    "    printf (\"%.2f F -> %.2f C\\n\", x, y) ;\n",
    "}\n",
    "\n",
    "int main ()\n",
    "{\n",
    "  double x = 80;                        // temperature en Fahrenheit\n",
    "  double y = Fahrenheit2Celsius(x);\n",
    "  afficher_resultat(x,y);\n",
    "\n",
    "  return 0;\n",
    "}"
   ]
  },
  {
   "cell_type": "markdown",
   "metadata": {
    "slideshow": {
     "slide_type": "slide"
    }
   },
   "source": [
    "## Fonctions qui manipulent leurs arguments"
   ]
  },
  {
   "cell_type": "code",
   "execution_count": 3,
   "metadata": {},
   "outputs": [
    {
     "name": "stdout",
     "output_type": "stream",
     "text": [
      "7"
     ]
    }
   ],
   "source": [
    "#include <stdio.h>\n",
    "void incrementer(int x) {\n",
    "    x = x + 1;\n",
    "}\n",
    "int main() {\n",
    "   int x = 7;\n",
    "   incrementer(x);\n",
    "   printf(\"%d\",x);\n",
    "}"
   ]
  },
  {
   "cell_type": "code",
   "execution_count": 4,
   "metadata": {},
   "outputs": [
    {
     "name": "stdout",
     "output_type": "stream",
     "text": [
      "8"
     ]
    }
   ],
   "source": [
    "#include <stdio.h>\n",
    "void incrementer(int* px) {\n",
    "    *px = *px + 1;\n",
    "}\n",
    "int main() {\n",
    "   int x = 7;\n",
    "   incrementer(&x);\n",
    "   printf(\"%d\",x);\n",
    "}"
   ]
  },
  {
   "cell_type": "markdown",
   "metadata": {
    "slideshow": {
     "slide_type": "slide"
    }
   },
   "source": [
    "### Exemple: Echanger deux valeurs (swap)"
   ]
  },
  {
   "cell_type": "code",
   "execution_count": 32,
   "metadata": {
    "slideshow": {
     "slide_type": "slide"
    }
   },
   "outputs": [
    {
     "name": "stdout",
     "output_type": "stream",
     "text": [
      "7,3"
     ]
    }
   ],
   "source": [
    "#include <stdio.h>\n",
    "void swap(int x, int y) {\n",
    "   int temp = x;\n",
    "   x = y;\n",
    "   y = temp;\n",
    "}\n",
    "int main() {\n",
    "   int x = 7; int y = 3; // <@>\n",
    "   swap(x,y);\n",
    "   printf(\"%d,%d\",x,y);\n",
    "}"
   ]
  },
  {
   "cell_type": "code",
   "execution_count": 5,
   "metadata": {
    "slideshow": {
     "slide_type": "slide"
    }
   },
   "outputs": [
    {
     "name": "stdout",
     "output_type": "stream",
     "text": [
      "3,7"
     ]
    }
   ],
   "source": [
    "#include <stdio.h>\n",
    "void swap(int* px, int* py) {\n",
    "   int temp = *px;\n",
    "   *px = *py;\n",
    "   *py = temp;\n",
    "}\n",
    "int main() {\n",
    "   int x = 7; int y = 3; // <@>\n",
    "   swap(&x,&y);\n",
    "   printf(\"%d,%d\",x,y);\n",
    "}"
   ]
  },
  {
   "cell_type": "markdown",
   "metadata": {},
   "source": [
    "## Prototype de fonction\n",
    "\n",
    "Le prototype, ou __déclaratation__, d'une fonction est \n",
    "\n",
    "    <valeur de retour> `nom_de_fonction`( ...arguments... ) `;`\n",
    "\n",
    "Exemples:\n",
    "`double Fahrenheit2Celsius(double x);`\n",
    "\n",
    "`void afficher_resultat(double x, double y);`\n",
    "\n",
    "`void swap(int* px, int* py);`\n",
    "\n",
    "Pour utiliser la fonction dans __autre fichier__, il suffit de connaître son prototype."
   ]
  },
  {
   "cell_type": "markdown",
   "metadata": {
    "slideshow": {
     "slide_type": "slide"
    }
   },
   "source": [
    "# Lire des Entrées au Clavier\n",
    "\n",
    "Pour afficher une valeur : \n",
    "\n",
    "    `printf(\"message: %d,%d\",x,y)`\n",
    "\n",
    "Pour lire une valeur au clavier : \n",
    "\n",
    "    `scanf(\"%d,%d\", &x, &y)`\n",
    "\n",
    "__attention__: pas de message, seulement format (`%d,%f`,...)\n",
    "    \n",
    "`&x`: l'adresse de `x`(pourquoi?)\n",
    "\n",
    "valeur de retour : nombre de valeurs lus"
   ]
  },
  {
   "cell_type": "markdown",
   "metadata": {
    "slideshow": {
     "slide_type": "slide"
    }
   },
   "source": [
    "```\n",
    "#include <stdio.h>\n",
    "int main() {\n",
    "    int x,y;\n",
    "    printf(\"Entrer deux valeurs: \");\n",
    "    int n = scanf(\"%d,%d\",&x,&y);\n",
    "    printf(\"x=%d,y=%d,n=%d\\n\",x,y,n);\n",
    "}\n",
    "```"
   ]
  },
  {
   "cell_type": "markdown",
   "metadata": {
    "slideshow": {
     "slide_type": "fragment"
    }
   },
   "source": [
    "```\n",
    "$ ./a.out\n",
    "Entrer deux valeurs: 3,4\n",
    "x=3,y=4,n=2\n",
    "$ ./a.out \n",
    "Entrer deux valeurs: 3 4\n",
    "x=3,y=1759981600,n=1\n",
    "$ ./a.out\n",
    "Entrer deux valeurs: 3 a\n",
    "x=3,y=1604196336,n=1\n",
    "```"
   ]
  },
  {
   "cell_type": "markdown",
   "metadata": {
    "slideshow": {
     "slide_type": "slide"
    }
   },
   "source": [
    "# Boucle for"
   ]
  },
  {
   "cell_type": "markdown",
   "metadata": {
    "slideshow": {
     "slide_type": "subslide"
    }
   },
   "source": [
    "La structure suivante est extrèmement courrante :\n",
    "\n",
    "```\n",
    "int i = 1;\n",
    "while (i<=n) {m\n",
    "  ... calcul ...\n",
    "  i = i+1;\n",
    "} \n",
    "```"
   ]
  },
  {
   "cell_type": "markdown",
   "metadata": {
    "slideshow": {
     "slide_type": "slide"
    }
   },
   "source": [
    "plus généralement :\n",
    "\n",
    "```\n",
    "<instruction1>\n",
    "while (<test>) {\n",
    "  ... calcul ...\n",
    "  <instruction2>\n",
    "} \n",
    "```"
   ]
  },
  {
   "cell_type": "markdown",
   "metadata": {
    "slideshow": {
     "slide_type": "subslide"
    }
   },
   "source": [
    "100% équivalent:\n",
    "```\n",
    "for (<instruction1>; <test>; <instruction2>) {\n",
    "  ... calcul ...\n",
    "} \n",
    "```\n",
    "Après chaque `<instruction2>`, `<test>` est exectuté pour voir si on arrête la boucle."
   ]
  },
  {
   "cell_type": "code",
   "execution_count": 13,
   "metadata": {
    "slideshow": {
     "slide_type": "slide"
    }
   },
   "outputs": [
    {
     "name": "stdout",
     "output_type": "stream",
     "text": [
      "0,1,4,9,16,25,36,49,64,81"
     ]
    }
   ],
   "source": [
    "#include <stdio.h>\n",
    "int main(){\n",
    "    for (int i=0; i<10; ++i) {\n",
    "        if (i>0) {\n",
    "            printf(\",\");\n",
    "        }\n",
    "        printf(\"%d\",i*i);\n",
    "    }\n",
    "}"
   ]
  },
  {
   "cell_type": "markdown",
   "metadata": {
    "slideshow": {
     "slide_type": "slide"
    }
   },
   "source": [
    "# Exercice: print fait maison"
   ]
  },
  {
   "cell_type": "markdown",
   "metadata": {
    "slideshow": {
     "slide_type": "slide"
    }
   },
   "source": [
    "# Salles le 8 novembre\n",
    "\n",
    "R510 - Julien/Dara (15 places)\n",
    "2328 - Thibault (16 places)\n",
    "1215 - Maxime (28 places)\n",
    "R511 - pas de chargé de TD"
   ]
  },
  {
   "cell_type": "code",
   "execution_count": null,
   "metadata": {},
   "outputs": [],
   "source": []
  }
 ],
 "metadata": {
  "kernelspec": {
   "display_name": "C",
   "language": "c",
   "name": "c"
  },
  "language_info": {
   "file_extension": ".c",
   "mimetype": "text/plain",
   "name": "c"
  },
  "rise": {
   "enable_chalkboard": true,
   "theme": "simple",
   "transition": "none"
  },
  "toc": {
   "base_numbering": 1,
   "nav_menu": {},
   "number_sections": true,
   "sideBar": true,
   "skip_h1_title": false,
   "title_cell": "Sommaire",
   "title_sidebar": "Sommaire",
   "toc_cell": true,
   "toc_position": {
    "height": "calc(100% - 180px)",
    "left": "10px",
    "top": "150px",
    "width": "261px"
   },
   "toc_section_display": true,
   "toc_window_display": false
  }
 },
 "nbformat": 4,
 "nbformat_minor": 2
}

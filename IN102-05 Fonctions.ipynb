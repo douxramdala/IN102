{
 "cells": [
  {
   "cell_type": "markdown",
   "metadata": {
    "slideshow": {
     "slide_type": "slide"
    },
    "toc": true
   },
   "source": [
    "<h1>Sommaire<span class=\"tocSkip\"></span></h1>\n",
    "<div class=\"toc\"><ul class=\"toc-item\"><li><span><a href=\"#Fonctions\" data-toc-modified-id=\"Fonctions-1\"><span class=\"toc-item-num\">1&nbsp;&nbsp;</span>Fonctions</a></span><ul class=\"toc-item\"><li><span><a href=\"#Exercice-:-Conversion-Fahrenheit-Celsius-dans-une-fonction\" data-toc-modified-id=\"Exercice-:-Conversion-Fahrenheit-Celsius-dans-une-fonction-1.1\"><span class=\"toc-item-num\">1.1&nbsp;&nbsp;</span>Exercice : Conversion Fahrenheit-Celsius dans une fonction</a></span></li><li><span><a href=\"#Encapsuler-l'affichage\" data-toc-modified-id=\"Encapsuler-l'affichage-1.2\"><span class=\"toc-item-num\">1.2&nbsp;&nbsp;</span>Encapsuler l'affichage</a></span></li><li><span><a href=\"#Fonctions-qui-manipulent-leurs-arguments\" data-toc-modified-id=\"Fonctions-qui-manipulent-leurs-arguments-1.3\"><span class=\"toc-item-num\">1.3&nbsp;&nbsp;</span>Fonctions qui manipulent leurs arguments</a></span><ul class=\"toc-item\"><li><span><a href=\"#Exemple:-Echanger-deux-valeurs-(swap)\" data-toc-modified-id=\"Exemple:-Echanger-deux-valeurs-(swap)-1.3.1\"><span class=\"toc-item-num\">1.3.1&nbsp;&nbsp;</span>Exemple: Echanger deux valeurs (swap)</a></span></li></ul></li><li><span><a href=\"#Prototype-de-fonction\" data-toc-modified-id=\"Prototype-de-fonction-1.4\"><span class=\"toc-item-num\">1.4&nbsp;&nbsp;</span>Prototype de fonction</a></span></li></ul></li><li><span><a href=\"#Lire-des-Entrées-au-Clavier\" data-toc-modified-id=\"Lire-des-Entrées-au-Clavier-2\"><span class=\"toc-item-num\">2&nbsp;&nbsp;</span>Lire des Entrées au Clavier</a></span></li><li><span><a href=\"#Boucle-for\" data-toc-modified-id=\"Boucle-for-3\"><span class=\"toc-item-num\">3&nbsp;&nbsp;</span>Boucle for</a></span></li><li><span><a href=\"#Exercice:-print-fait-maison\" data-toc-modified-id=\"Exercice:-print-fait-maison-4\"><span class=\"toc-item-num\">4&nbsp;&nbsp;</span>Exercice: print fait maison</a></span></li></ul></div>"
   ]
  },
  {
   "cell_type": "markdown",
   "metadata": {},
   "source": [
    "**Attention:** Pour activer le langage C, executer le code suivant avec Shift+Entrée où avec le bouton \"Run\"."
   ]
  },
  {
   "cell_type": "code",
   "execution_count": 2,
   "metadata": {},
   "outputs": [
    {
     "name": "stdout",
     "output_type": "stream",
     "text": [
      "Collecting git+git://github.com/frehseg/gcc4jupyter\n",
      "  Cloning git://github.com/frehseg/gcc4jupyter to /tmp/pip-req-build-f3dhxbwf\n",
      "  Running command git clone -q git://github.com/frehseg/gcc4jupyter /tmp/pip-req-build-f3dhxbwf\n",
      "Requirement already satisfied (use --upgrade to upgrade): GCCPlugin==0.0.1 from git+git://github.com/frehseg/gcc4jupyter in /opt/conda/lib/python3.7/site-packages\n",
      "Building wheels for collected packages: GCCPlugin\n",
      "  Building wheel for GCCPlugin (setup.py) ... \u001b[?25ldone\n",
      "\u001b[?25h  Created wheel for GCCPlugin: filename=GCCPlugin-0.0.1-cp37-none-any.whl size=2001 sha256=9321b5b82e857ee319dd2b884357d326c5a17bf71ac465ac0fae1803e3ea3965\n",
      "  Stored in directory: /tmp/pip-ephem-wheel-cache-thl3sj5j/wheels/a6/ff/b4/023d42d3ec7c36b10e15db2a808aae8b2475e19fa6e370f85c\n",
      "Successfully built GCCPlugin\n"
     ]
    }
   ],
   "source": [
    "!pip install git+git://github.com/frehseg/gcc4jupyter\n",
    "%load_ext gcc_plugin"
   ]
  },
  {
   "cell_type": "markdown",
   "metadata": {
    "slideshow": {
     "slide_type": "slide"
    }
   },
   "source": [
    "# Fonctions"
   ]
  },
  {
   "cell_type": "markdown",
   "metadata": {
    "slideshow": {
     "slide_type": "fragment"
    }
   },
   "source": [
    "Format d'une fonction :\n",
    "\n",
    "...type de retour... `nom_de_fonction` `(` ... arguments ... `)` `{`\n",
    "\n",
    "    ... instructions ...\n",
    "\n",
    "`}`"
   ]
  },
  {
   "cell_type": "markdown",
   "metadata": {
    "slideshow": {
     "slide_type": "fragment"
    }
   },
   "source": [
    "Les arguments sont des variables locales dont la portée est le bloc de la fonction:\n",
    "\n",
    "``\n",
    "int carre (int x) {\n",
    "  return x * x;\n",
    "}\n",
    "``"
   ]
  },
  {
   "cell_type": "markdown",
   "metadata": {
    "slideshow": {
     "slide_type": "slide"
    }
   },
   "source": [
    "## Exercice : Conversion Fahrenheit-Celsius dans une fonction"
   ]
  },
  {
   "cell_type": "code",
   "execution_count": 3,
   "metadata": {
    "slideshow": {
     "slide_type": "subslide"
    }
   },
   "outputs": [
    {
     "name": "stdout",
     "output_type": "stream",
     "text": [
      "80.00 F -> 26.67 C\n",
      "\n"
     ]
    }
   ],
   "source": [
    "%%c\n",
    "#include <stdio.h>  /* Pour acceder a printf. */\n",
    "\n",
    "int main () {\n",
    "  double x = 80;                        // temperature en Fahrenheit\n",
    "  double y = 5.0 / 9 * x - 160.0 / 9;\n",
    "  printf (\"%.2f F -> %.2f C\\n\", x, y) ;\n",
    "\n",
    "  return 0;\n",
    "}"
   ]
  },
  {
   "cell_type": "code",
   "execution_count": 4,
   "metadata": {
    "slideshow": {
     "slide_type": "slide"
    }
   },
   "outputs": [
    {
     "name": "stdout",
     "output_type": "stream",
     "text": [
      "80.00 F -> 26.67 C\n",
      "\n"
     ]
    }
   ],
   "source": [
    "%%c\n",
    "#include <stdio.h>  /* Pour acceder a printf. */\n",
    "\n",
    "/* Convertir un température x de Fahrenheit en Celsius */\n",
    "double F2C(double x) {\n",
    "  double y = 5.0 / 9 * x - 160.0 / 9;\n",
    "  return y;\n",
    "} \n",
    "\n",
    "int main () {\n",
    "  double x = 80;                        // temperature en Fahrenheit\n",
    "  double y = F2C(x);\n",
    "  printf (\"%.2f F -> %.2f C\\n\", x, y) ;\n",
    "\n",
    "  return 0;\n",
    "}"
   ]
  },
  {
   "cell_type": "markdown",
   "metadata": {
    "slideshow": {
     "slide_type": "slide"
    }
   },
   "source": [
    "```\n",
    "double F2C(double x) {\n",
    "    double y = 5.0 / 9 * x - 160.0 / 9;\n",
    "    return y;\n",
    "} \n",
    "int main () {\n",
    "<@> double x = 80; // x est alloué 8 octets et 80 y est copiée                       \n",
    "    double y = F2C(x);\n",
    "    printf (\"%.2f F -> %.2f C\\n\", x, y) ;\n",
    "    return 0;\n",
    "}\n",
    "```\n",
    "| variable  | adresse | contenu |\n",
    "| -- | -- | -- |\n",
    "| x (main) |1028 |  80  |\n"
   ]
  },
  {
   "cell_type": "markdown",
   "metadata": {
    "slideshow": {
     "slide_type": "slide"
    }
   },
   "source": [
    "```\n",
    "double F2C(double x) {\n",
    "<@> // la variable locale x est crée, \n",
    "    // et la valeur de l'argument effectif y est copié\n",
    "    double y = 5.0 / 9 * x - 160.0 / 9;\n",
    "    return y;\n",
    "} \n",
    "int main () {\n",
    "    double x = 80;                       \n",
    "    double y = <@>F2C(x);\n",
    "    printf (\"%.2f F -> %.2f C\\n\", x, y) ;\n",
    "    return 0;\n",
    "}\n",
    "\n",
    "```\n",
    "| variable  | adresse | contenu |\n",
    "| -- | -- | -- |\n",
    "| x (F2C) |1044 |  80  |\n",
    "| y (main) |1036 |  ???  |\n",
    "| x (main) |1028 |  80  |\n"
   ]
  },
  {
   "cell_type": "markdown",
   "metadata": {
    "slideshow": {
     "slide_type": "slide"
    }
   },
   "source": [
    "```\n",
    "double F2C(double x) {\n",
    "<@> double y = 5.0 / 9 * x - 160.0 / 9; // y est créé et affecté sa valeur\n",
    "    return y;\n",
    "} \n",
    "int main () {\n",
    "    double x = 80;                       \n",
    "    double y = <@>F2C(x);\n",
    "    printf (\"%.2f F -> %.2f C\\n\", x, y) ;\n",
    "    return 0;\n",
    "}\n",
    "```\n",
    "| variable  | adresse | contenu (4 octets) |\n",
    "| -- | -- | -- |\n",
    "| y (F2C) |1052 |  26.66667  |\n",
    "| x (F2C) |1044 |  80  |\n",
    "| y (main) |1036 |  ???  |\n",
    "| x (main) |1028 |  80  |\n"
   ]
  },
  {
   "cell_type": "markdown",
   "metadata": {
    "slideshow": {
     "slide_type": "slide"
    }
   },
   "source": [
    "```\n",
    "double F2C(double x) {\n",
    "    double y = 5.0 / 9 * x - 160.0 / 9;\n",
    "<@> return y; // la valeur de retour est copié dans un tampon (registre)\n",
    "} \n",
    "int main () {\n",
    "    double x = 80;                       \n",
    "    double y = <@>F2C(x);\n",
    "    printf (\"%.2f F -> %.2f C\\n\", x, y) ;\n",
    "    return 0;\n",
    "}\n",
    "```\n",
    "| variable  | adresse | contenu |\n",
    "| -- | -- | -- |\n",
    "| val. retour | registre |  26.66667  |\n",
    "| y (F2C) |1052 |  26.66667  |\n",
    "| x (F2C) |1044 |  80  |\n",
    "| y (main) |1036 |  ???  |\n",
    "| x (main) |1028 |  80  |\n"
   ]
  },
  {
   "cell_type": "markdown",
   "metadata": {
    "slideshow": {
     "slide_type": "slide"
    }
   },
   "source": [
    "```\n",
    "double F2C(double x) {\n",
    "    double y = 5.0 / 9 * x - 160.0 / 9;\n",
    "    return y;\n",
    "<@> } // fin du bloc : variables locales libérées\n",
    "int main () {\n",
    "    double x = 80;                       \n",
    "    double y = <@>F2C(x);\n",
    "    printf (\"%.2f F -> %.2f C\\n\", x, y) ;\n",
    "    return 0;\n",
    "}\n",
    "```\n",
    "| variable  | adresse | contenu |\n",
    "| -- | -- | -- |\n",
    "| val. retour | registre |  26.66667  |\n",
    "| y (main) |1036 |  ???  |\n",
    "| x (main) |1028 |  80  |\n"
   ]
  },
  {
   "cell_type": "markdown",
   "metadata": {
    "slideshow": {
     "slide_type": "slide"
    }
   },
   "source": [
    "```\n",
    "double F2C(double x) {\n",
    "    double y = 5.0 / 9 * x - 160.0 / 9;\n",
    "    return y;\n",
    "} \n",
    "int main () {\n",
    "    double x = 80;                       \n",
    "<@> double y = F2C(x); // val. de retour copié dans y\n",
    "    printf (\"%.2f F -> %.2f C\\n\", x, y) ;\n",
    "    return 0;\n",
    "}\n",
    "```\n",
    "| variable  | adresse | contenu (4 octets) |\n",
    "| -- | -- | -- |\n",
    "| y (main) |1036 |  26.66667  |\n",
    "| x (main) |1028 |  80  |\n"
   ]
  },
  {
   "cell_type": "markdown",
   "metadata": {
    "slideshow": {
     "slide_type": "slide"
    }
   },
   "source": [
    "## Encapsuler l'affichage\n",
    "\n",
    "une fonction qui ne donne pas de valeur de retour : `void`"
   ]
  },
  {
   "cell_type": "code",
   "execution_count": 5,
   "metadata": {
    "slideshow": {
     "slide_type": "fragment"
    }
   },
   "outputs": [
    {
     "name": "stdout",
     "output_type": "stream",
     "text": [
      "80.00 F -> 26.67 C\n",
      "\n"
     ]
    }
   ],
   "source": [
    "%%c\n",
    "#include <stdio.h>  /* Pour acceder a printf. */\n",
    "\n",
    "/* Convertir un température x de Fahrenheit en Celsius */\n",
    "double Fahrenheit2Celsius(double x) {\n",
    "  double y = 5.0 / 9 * x - 160.0 / 9;\n",
    "  return y;\n",
    "} \n",
    "\n",
    "int main ()\n",
    "{\n",
    "  double x = 80;                        // temperature en Fahrenheit\n",
    "  double y = Fahrenheit2Celsius(x);\n",
    "  printf (\"%.2f F -> %.2f C\\n\", x, y) ;\n",
    "\n",
    "  return 0;\n",
    "}"
   ]
  },
  {
   "cell_type": "code",
   "execution_count": 6,
   "metadata": {
    "slideshow": {
     "slide_type": "slide"
    }
   },
   "outputs": [
    {
     "name": "stdout",
     "output_type": "stream",
     "text": [
      "80.00 F -> 26.67 C\n",
      "\n"
     ]
    }
   ],
   "source": [
    "%%c\n",
    "#include <stdio.h>  /* Pour acceder a printf. */\n",
    "\n",
    "/* Convertir un température x de Fahrenheit en Celsius */\n",
    "double Fahrenheit2Celsius(double x) {\n",
    "  double y = 5.0 / 9 * x - 160.0 / 9;\n",
    "  return y;\n",
    "} \n",
    "\n",
    "/* Afficher le résultat */\n",
    "void afficher_resultat(double x, double y) {\n",
    "    printf (\"%.2f F -> %.2f C\\n\", x, y) ;\n",
    "}\n",
    "\n",
    "int main ()\n",
    "{\n",
    "  double x = 80;                        // temperature en Fahrenheit\n",
    "  double y = Fahrenheit2Celsius(x);\n",
    "  afficher_resultat(x,y);\n",
    "\n",
    "  return 0;\n",
    "}"
   ]
  },
  {
   "cell_type": "markdown",
   "metadata": {
    "slideshow": {
     "slide_type": "slide"
    }
   },
   "source": [
    "## Fonctions qui manipulent leurs arguments"
   ]
  },
  {
   "cell_type": "code",
   "execution_count": 7,
   "metadata": {},
   "outputs": [
    {
     "name": "stdout",
     "output_type": "stream",
     "text": [
      "7\n"
     ]
    }
   ],
   "source": [
    "%%c\n",
    "#include <stdio.h>\n",
    "void incrementer(int x) {\n",
    "    x = x + 1;\n",
    "}\n",
    "int main() {\n",
    "   int x = 7;\n",
    "   incrementer(x);\n",
    "   printf(\"%d\",x);\n",
    "}"
   ]
  },
  {
   "cell_type": "code",
   "execution_count": 8,
   "metadata": {},
   "outputs": [
    {
     "name": "stdout",
     "output_type": "stream",
     "text": [
      "8\n"
     ]
    }
   ],
   "source": [
    "%%c\n",
    "#include <stdio.h>\n",
    "void incrementer(int* px) {\n",
    "    *px = *px + 1;\n",
    "}\n",
    "int main() {\n",
    "   int x = 7;\n",
    "   incrementer(&x);\n",
    "   printf(\"%d\",x);\n",
    "}"
   ]
  },
  {
   "cell_type": "markdown",
   "metadata": {
    "slideshow": {
     "slide_type": "slide"
    }
   },
   "source": [
    "### Exemple: Echanger deux valeurs (swap)"
   ]
  },
  {
   "cell_type": "code",
   "execution_count": 9,
   "metadata": {
    "slideshow": {
     "slide_type": "slide"
    }
   },
   "outputs": [
    {
     "name": "stdout",
     "output_type": "stream",
     "text": [
      "7,3\n"
     ]
    }
   ],
   "source": [
    "%%c\n",
    "#include <stdio.h>\n",
    "void swap(int x, int y) {\n",
    "   int temp = x;\n",
    "   x = y;\n",
    "   y = temp;\n",
    "}\n",
    "int main() {\n",
    "   int x = 7; int y = 3; // <@>\n",
    "   swap(x,y);\n",
    "   printf(\"%d,%d\",x,y);\n",
    "}"
   ]
  },
  {
   "cell_type": "code",
   "execution_count": 10,
   "metadata": {
    "slideshow": {
     "slide_type": "slide"
    }
   },
   "outputs": [
    {
     "name": "stdout",
     "output_type": "stream",
     "text": [
      "3,7\n"
     ]
    }
   ],
   "source": [
    "%%c\n",
    "#include <stdio.h>\n",
    "void swap(int* px, int* py) {\n",
    "   int temp = *px;\n",
    "   *px = *py;\n",
    "   *py = temp;\n",
    "}\n",
    "int main() {\n",
    "   int x = 7; int y = 3; // <@>\n",
    "   swap(&x,&y);\n",
    "   printf(\"%d,%d\",x,y);\n",
    "}"
   ]
  },
  {
   "cell_type": "markdown",
   "metadata": {},
   "source": [
    "## Prototype de fonction\n",
    "\n",
    "Le prototype, ou __déclaratation__, d'une fonction est \n",
    "\n",
    "    <valeur de retour> `nom_de_fonction`( ...arguments... ) `;`\n",
    "\n",
    "Exemples:\n",
    "`double Fahrenheit2Celsius(double x);`\n",
    "\n",
    "`void afficher_resultat(double x, double y);`\n",
    "\n",
    "`void swap(int* px, int* py);`\n",
    "\n",
    "Pour utiliser la fonction dans __autre fichier__, il suffit de connaître son prototype."
   ]
  },
  {
   "cell_type": "markdown",
   "metadata": {
    "slideshow": {
     "slide_type": "slide"
    }
   },
   "source": [
    "# Lire des Entrées au Clavier\n",
    "\n",
    "Pour afficher une valeur : \n",
    "\n",
    "    `printf(\"message: %d,%d\",x,y)`\n",
    "\n",
    "Pour lire une valeur au clavier : \n",
    "\n",
    "    `scanf(\"%d,%d\", &x, &y)`\n",
    "\n",
    "__attention__: pas de message, seulement format (`%d,%f`,...)\n",
    "    \n",
    "`&x`: l'adresse de `x`(pourquoi?)\n",
    "\n",
    "valeur de retour : nombre de valeurs lus"
   ]
  },
  {
   "cell_type": "markdown",
   "metadata": {
    "slideshow": {
     "slide_type": "slide"
    }
   },
   "source": [
    "```\n",
    "#include <stdio.h>\n",
    "int main() {\n",
    "    int x,y;\n",
    "    printf(\"Entrer deux valeurs: \");\n",
    "    int n = scanf(\"%d,%d\",&x,&y);\n",
    "    printf(\"x=%d,y=%d,n=%d\\n\",x,y,n);\n",
    "}\n",
    "```"
   ]
  },
  {
   "cell_type": "markdown",
   "metadata": {
    "slideshow": {
     "slide_type": "fragment"
    }
   },
   "source": [
    "```\n",
    "$ ./a.out\n",
    "Entrer deux valeurs: 3,4\n",
    "x=3,y=4,n=2\n",
    "$ ./a.out \n",
    "Entrer deux valeurs: 3 4\n",
    "x=3,y=1759981600,n=1\n",
    "$ ./a.out\n",
    "Entrer deux valeurs: 3 a\n",
    "x=3,y=1604196336,n=1\n",
    "```"
   ]
  },
  {
   "cell_type": "markdown",
   "metadata": {
    "slideshow": {
     "slide_type": "slide"
    }
   },
   "source": [
    "# Boucle for"
   ]
  },
  {
   "cell_type": "markdown",
   "metadata": {
    "slideshow": {
     "slide_type": "subslide"
    }
   },
   "source": [
    "La structure suivante est extrèmement courrante :\n",
    "\n",
    "```\n",
    "int i = 1;\n",
    "while (i<=n) {m\n",
    "  ... calcul ...\n",
    "  i = i+1;\n",
    "} \n",
    "```"
   ]
  },
  {
   "cell_type": "markdown",
   "metadata": {
    "slideshow": {
     "slide_type": "slide"
    }
   },
   "source": [
    "plus généralement :\n",
    "\n",
    "```\n",
    "<instruction1>\n",
    "while (<test>) {\n",
    "  ... calcul ...\n",
    "  <instruction2>\n",
    "} \n",
    "```"
   ]
  },
  {
   "cell_type": "markdown",
   "metadata": {
    "slideshow": {
     "slide_type": "subslide"
    }
   },
   "source": [
    "100% équivalent:\n",
    "```\n",
    "for (<instruction1>; <test>; <instruction2>) {\n",
    "  ... calcul ...\n",
    "} \n",
    "```\n",
    "Après chaque `<instruction2>`, `<test>` est exectuté pour voir si on arrête la boucle."
   ]
  },
  {
   "cell_type": "code",
   "execution_count": 11,
   "metadata": {
    "slideshow": {
     "slide_type": "slide"
    }
   },
   "outputs": [
    {
     "name": "stdout",
     "output_type": "stream",
     "text": [
      "0,1,4,9,16,25,36,49,64,81\n"
     ]
    }
   ],
   "source": [
    "%%c\n",
    "#include <stdio.h>\n",
    "int main(){\n",
    "    for (int i=0; i<10; ++i) {\n",
    "        if (i>0) {\n",
    "            printf(\",\");\n",
    "        }\n",
    "        printf(\"%d\",i*i);\n",
    "    }\n",
    "}"
   ]
  },
  {
   "cell_type": "markdown",
   "metadata": {
    "slideshow": {
     "slide_type": "slide"
    }
   },
   "source": [
    "# Exercice: print fait maison"
   ]
  },
  {
   "cell_type": "code",
   "execution_count": null,
   "metadata": {},
   "outputs": [],
   "source": []
  }
 ],
 "metadata": {
  "celltoolbar": "Raw Cell Format",
  "kernelspec": {
   "display_name": "Python 3",
   "language": "python",
   "name": "python3"
  },
  "language_info": {
   "codemirror_mode": {
    "name": "ipython",
    "version": 3
   },
   "file_extension": ".py",
   "mimetype": "text/x-python",
   "name": "python",
   "nbconvert_exporter": "python",
   "pygments_lexer": "ipython3",
   "version": "3.7.3"
  },
  "rise": {
   "enable_chalkboard": true,
   "theme": "simple",
   "transition": "none"
  },
  "toc": {
   "base_numbering": 1,
   "nav_menu": {},
   "number_sections": true,
   "sideBar": true,
   "skip_h1_title": false,
   "title_cell": "Sommaire",
   "title_sidebar": "Sommaire",
   "toc_cell": true,
   "toc_position": {
    "height": "calc(100% - 180px)",
    "left": "10px",
    "top": "150px",
    "width": "261px"
   },
   "toc_section_display": true,
   "toc_window_display": true
  }
 },
 "nbformat": 4,
 "nbformat_minor": 2
}

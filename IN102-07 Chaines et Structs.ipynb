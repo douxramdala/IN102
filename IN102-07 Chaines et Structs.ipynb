{
 "cells": [
  {
   "cell_type": "markdown",
   "metadata": {
    "slideshow": {
     "slide_type": "slide"
    },
    "toc": true
   },
   "source": [
    "<h1>Sommaire<span class=\"tocSkip\"></span></h1>\n",
    "<div class=\"toc\"><ul class=\"toc-item\"><li><span><a href=\"#Chaînes-de-caractères\" data-toc-modified-id=\"Chaînes-de-caractères-1\"><span class=\"toc-item-num\">1&nbsp;&nbsp;</span>Chaînes de caractères</a></span><ul class=\"toc-item\"><li><span><a href=\"#Créer-une-chaîne\" data-toc-modified-id=\"Créer-une-chaîne-1.1\"><span class=\"toc-item-num\">1.1&nbsp;&nbsp;</span>Créer une chaîne</a></span></li><li><span><a href=\"#Afficher-une-chaîne\" data-toc-modified-id=\"Afficher-une-chaîne-1.2\"><span class=\"toc-item-num\">1.2&nbsp;&nbsp;</span>Afficher une chaîne</a></span></li></ul></li><li><span><a href=\"#Struct\" data-toc-modified-id=\"Struct-2\"><span class=\"toc-item-num\">2&nbsp;&nbsp;</span>Struct</a></span><ul class=\"toc-item\"><li><span><a href=\"#Principe-du-struct\" data-toc-modified-id=\"Principe-du-struct-2.1\"><span class=\"toc-item-num\">2.1&nbsp;&nbsp;</span>Principe du struct</a></span></li><li><span><a href=\"#Créer-un-struct\" data-toc-modified-id=\"Créer-un-struct-2.2\"><span class=\"toc-item-num\">2.2&nbsp;&nbsp;</span>Créer un struct</a></span></li><li><span><a href=\"#Utiliser-un-struct\" data-toc-modified-id=\"Utiliser-un-struct-2.3\"><span class=\"toc-item-num\">2.3&nbsp;&nbsp;</span>Utiliser un struct</a></span></li><li><span><a href=\"#Résume-de-struct\" data-toc-modified-id=\"Résume-de-struct-2.4\"><span class=\"toc-item-num\">2.4&nbsp;&nbsp;</span>Résume de struct</a></span><ul class=\"toc-item\"><li><span><a href=\"#Définition-d'un-nouveau-type-struct\" data-toc-modified-id=\"Définition-d'un-nouveau-type-struct-2.4.1\"><span class=\"toc-item-num\">2.4.1&nbsp;&nbsp;</span>Définition d'un nouveau type struct</a></span></li><li><span><a href=\"#Définition-d'une-variable-struct\" data-toc-modified-id=\"Définition-d'une-variable-struct-2.4.2\"><span class=\"toc-item-num\">2.4.2&nbsp;&nbsp;</span>Définition d'une variable struct</a></span></li><li><span><a href=\"#Utiliser-les-champs-d'un-struct\" data-toc-modified-id=\"Utiliser-les-champs-d'un-struct-2.4.3\"><span class=\"toc-item-num\">2.4.3&nbsp;&nbsp;</span>Utiliser les champs d'un struct</a></span></li><li><span><a href=\"#Utiliser-les-champs-d'un-pointeur-vers-struct\" data-toc-modified-id=\"Utiliser-les-champs-d'un-pointeur-vers-struct-2.4.4\"><span class=\"toc-item-num\">2.4.4&nbsp;&nbsp;</span>Utiliser les champs d'un pointeur vers struct</a></span></li></ul></li></ul></li></ul></div>"
   ]
  },
  {
   "cell_type": "markdown",
   "metadata": {},
   "source": [
    "**Attention:** Pour activer le langage C, executer le code suivant avec Shift+Entrée où avec le bouton \"Run\"."
   ]
  },
  {
   "cell_type": "code",
   "execution_count": 1,
   "metadata": {},
   "outputs": [
    {
     "name": "stdout",
     "output_type": "stream",
     "text": [
      "Collecting git+git://github.com/frehseg/gcc4jupyter\n",
      "  Cloning git://github.com/frehseg/gcc4jupyter to /tmp/pip-req-build-usw39067\n",
      "  Running command git clone -q git://github.com/frehseg/gcc4jupyter /tmp/pip-req-build-usw39067\n",
      "Requirement already satisfied (use --upgrade to upgrade): GCCPlugin==0.0.1 from git+git://github.com/frehseg/gcc4jupyter in /opt/conda/lib/python3.7/site-packages\n",
      "Building wheels for collected packages: GCCPlugin\n",
      "  Building wheel for GCCPlugin (setup.py) ... \u001b[?25ldone\n",
      "\u001b[?25h  Created wheel for GCCPlugin: filename=GCCPlugin-0.0.1-cp37-none-any.whl size=2001 sha256=9fabf6638b577b69f5351f89c6cabff2bb7b240aaf2c953aea9d29dc054cdbda\n",
      "  Stored in directory: /tmp/pip-ephem-wheel-cache-m63vc0ca/wheels/a6/ff/b4/023d42d3ec7c36b10e15db2a808aae8b2475e19fa6e370f85c\n",
      "Successfully built GCCPlugin\n"
     ]
    }
   ],
   "source": [
    "!pip install git+git://github.com/frehseg/gcc4jupyter\n",
    "%load_ext gcc_plugin"
   ]
  },
  {
   "cell_type": "markdown",
   "metadata": {
    "raw_mimetype": "text/markdown"
   },
   "source": [
    "<script>\n",
    "    console.log(\"Hello. You'll see this printed in your browser's DevTools / Console. Feel free to delete this line.\");\n",
    "    document.querySelector('head').innerHTML += '<style>.slides { zoom: 1.0 !important; }</style>';\n",
    "</script>"
   ]
  },
  {
   "cell_type": "markdown",
   "metadata": {
    "slideshow": {
     "slide_type": "slide"
    }
   },
   "source": [
    "# Chaînes de caractères\n",
    "\n",
    "caractère : entier de 0 à 255\n",
    "\n",
    "chaque numéro correspond à une lettre:\n",
    "- A = 65, B = 66, ..., Z = 90\n",
    "- a = 97, b = 98, ..., z = 122 \n",
    "- 0 = 48, 1 = 49, ..., 9 = 57\n",
    "\n",
    "chaîne : suite de caractères __terminé par le numéro 0__ <br> (pas besoin de stocker la longueur)\n",
    "\n",
    "- \"ENSTA\" = 69,78,83,84,65,__0__\n",
    "- \"IN120\" = 73,78,49,50,48,__0__\n"
   ]
  },
  {
   "cell_type": "markdown",
   "metadata": {
    "slideshow": {
     "slide_type": "slide"
    }
   },
   "source": [
    "## Créer une chaîne\n",
    "\n",
    "chaîne modifiable avec `[]`:\n",
    "\n",
    "``char ma_chaine[] = \"ENSTA\";``\n",
    "\n",
    "chaîne __non modifiable__ avec `*`:\n",
    "\n",
    "``char* ma_chaine = \"ENSTA\";``\n",
    "\n",
    "- `[]`: tableau (voir cours 4)\n",
    "- chaînes non modifiables sont stockés dans mémoire partagé entre plusieurs instances du même programme\n",
    "- dans les deux cas, `ma_chaine` est un pointeur `char*` vers `E`"
   ]
  },
  {
   "cell_type": "markdown",
   "metadata": {
    "slideshow": {
     "slide_type": "slide"
    }
   },
   "source": [
    "## Afficher une chaîne"
   ]
  },
  {
   "cell_type": "code",
   "execution_count": 79,
   "metadata": {
    "slideshow": {
     "slide_type": "fragment"
    }
   },
   "outputs": [
    {
     "name": "stdout",
     "output_type": "stream",
     "text": [
      "IN102\n"
     ]
    }
   ],
   "source": [
    "#include <stdio.h>\n",
    "int main() {\n",
    "   char ma_chaine[] = \"IN102\";\n",
    "   printf(\"%s\\n\", ma_chaine );\n",
    "}"
   ]
  },
  {
   "cell_type": "markdown",
   "metadata": {
    "slideshow": {
     "slide_type": "slide"
    }
   },
   "source": [
    "# Struct\n",
    "\n",
    "Gérer plusieurs données comme une unité, potentiellement avec des types différents:\n",
    "\n",
    "Exemple: Adresse postale\n",
    "- nom du déstinataire\n",
    "- numéro dans la voie\n",
    "- nom de voie\n",
    "- code postal de 5 chiffres\n",
    "- nom de la commune"
   ]
  },
  {
   "cell_type": "markdown",
   "metadata": {
    "slideshow": {
     "slide_type": "slide"
    }
   },
   "source": [
    "``\n",
    "void afficher(char* nom_dest, int no_voie, char* nom_voie, int code_postal, char* nom_commune) {\n",
    "    // ...\n",
    "}\n",
    "``\n",
    "- c'est penible à écrire\n",
    "- c'est difficile à maintenir\n",
    "    - ajouter un numéro de boite postale --> modifier __tout__ les fonctions qui utilisent une adresse"
   ]
  },
  {
   "cell_type": "markdown",
   "metadata": {
    "slideshow": {
     "slide_type": "slide"
    }
   },
   "source": [
    "## Principe du struct\n",
    "\n",
    "Idée : rassembler les informations dans une seule variable\n",
    "\n",
    "Type nommé : ``struct adresse``\n",
    "\n",
    "``struct adresse {\n",
    "   char* nom_dest;\n",
    "   int no_voie;\n",
    "   char* nom_voie;\n",
    "   int code_postal;\n",
    "   char* nom_commune;\n",
    "}\n",
    "``"
   ]
  },
  {
   "cell_type": "markdown",
   "metadata": {
    "slideshow": {
     "slide_type": "slide"
    }
   },
   "source": [
    "``\n",
    "void afficher(struct adresse mon_adr) {\n",
    "    // ...\n",
    "}\n",
    "``\n",
    "\n",
    "- plus lisible\n",
    "- facile à maintenir:\n",
    "    - ajouter un numéro de boite postale --> l'entête de la fonction reste pareil <br>\n",
    "      (éventuellement ajouter une instruction pour afficher la nouvelle information)"
   ]
  },
  {
   "cell_type": "markdown",
   "metadata": {
    "slideshow": {
     "slide_type": "slide"
    }
   },
   "source": [
    "## Créer un struct\n",
    "\n",
    "`struct adresse` est un __type__ (comme `int`)\n",
    "\n",
    "pour créer un struct de ce type:\n",
    "\n",
    "``struct adresse adr_prof = {\n",
    "    \"Goran Frehse\",\n",
    "     828, \n",
    "     \"boulevard des maréchaux\",\n",
    "     91762,\n",
    "     \"Palaiseau\"\n",
    "};\n",
    "``\n",
    "\n"
   ]
  },
  {
   "cell_type": "markdown",
   "metadata": {
    "slideshow": {
     "slide_type": "slide"
    }
   },
   "source": [
    "## Utiliser un struct\n",
    "\n",
    "```\n",
    "void afficher(struct adresse mon_adr) {\n",
    "    printf(\"%s\\n\",mon_adr.nom_dest);\n",
    "    printf(\"%d, %s\\n\",mon_adr.no_voie,mon_adr.nom_voie);\n",
    "    printf(\"%d %s\\n\",mon_adr.code_postal,mon_adr.nom_commune);\n",
    "}\n",
    "```\n",
    "\n",
    "```\n",
    "int main() {\n",
    "    struct adresse adr_prof = {\n",
    "    \"Goran Frehse\",\n",
    "     828, \n",
    "     \"boulevard des maréchaux\",\n",
    "     91762,\n",
    "     \"Palaiseau\"\n",
    "    };\n",
    "    afficher(adr_prof);\n",
    "}\n",
    "```\n",
    "\n"
   ]
  },
  {
   "cell_type": "markdown",
   "metadata": {
    "slideshow": {
     "slide_type": "slide"
    }
   },
   "source": [
    "## Résume de struct\n",
    "\n",
    "### Définition d'un nouveau type struct\n",
    "\n",
    "`struct` nom_de_type `{`\n",
    "\n",
    "    type nom_de_champ1;\n",
    "    type nom_de_champ2;\n",
    "\n",
    "    ... __champs__ ...\n",
    "        \n",
    "`}`"
   ]
  },
  {
   "cell_type": "markdown",
   "metadata": {
    "slideshow": {
     "slide_type": "slide"
    }
   },
   "source": [
    "### Définition d'une variable struct\n",
    "\n",
    "`struct` nom_de_type nom_de_variable `= {`\n",
    "\n",
    "    valeur1 ,\n",
    "    valeur2 ,\n",
    "    ... ___valeurs__ ...\n",
    "    \n",
    " `}`"
   ]
  },
  {
   "cell_type": "markdown",
   "metadata": {
    "slideshow": {
     "slide_type": "slide"
    }
   },
   "source": [
    "### Utiliser les champs d'un struct\n",
    "\n",
    "```\n",
    "    nom_de_variable.valeur1 = ...;\n",
    "    nom_de_variable.valeur2 = ...;\n",
    "```\n",
    "\n",
    "### Utiliser les champs d'un pointeur vers struct\n",
    "\n",
    "```\n",
    "    pointeur_vers_struct -> valeur1 = ...;\n",
    "    pointeur_vers_struct -> valeur2 = ...;\n",
    "```    \n",
    "    "
   ]
  },
  {
   "cell_type": "code",
   "execution_count": null,
   "metadata": {},
   "outputs": [],
   "source": [
    "# Chaînes de caractères\n",
    "\n",
    "caractère : entier de 0 à 255\n",
    "\n",
    "chaque numéro correspond à une lettre:\n",
    "- A = 65, B = 66, ..., Z = 90\n",
    "- a = 97, b = 98, ..., z = 122 \n",
    "- 0 = 48, 1 = 49, ..., 9 = 57\n",
    "\n",
    "chaîne : suite de caractères __terminé par le numéro 0__ <br> (pas besoin de stocker la longueur)\n",
    "\n",
    "- \"ENSTA\" = 69,78,83,84,65,__0__\n",
    "- \"IN120\" = 73,78,49,50,48,__0__\n",
    "\n",
    "\n",
    "## Créer une chaîne\n",
    "\n",
    "chaîne modifiable avec `[]`:\n",
    "\n",
    "``char ma_chaine[] = \"ENSTA\";``\n",
    "\n",
    "chaîne __non modifiable__ avec `*`:\n",
    "\n",
    "``char* ma_chaine = \"ENSTA\";``\n",
    "\n",
    "- `[]`: tableau (voir cours 4)\n",
    "- chaînes non modifiables sont stockés dans mémoire partagé entre plusieurs instances du même programme\n",
    "- dans les deux cas, `ma_chaine` est un pointeur `char*` vers `E`\n",
    "\n",
    "## Afficher une chaîne\n",
    "\n",
    "#include <stdio.h>\n",
    "int main() {\n",
    "   char ma_chaine[] = \"IN102\";\n",
    "   printf(\"%s\\n\", ma_chaine );\n",
    "}\n",
    "\n",
    "# Struct\n",
    "\n",
    "Gérer plusieurs données comme une unité, potentiellement avec des types différents:\n",
    "\n",
    "Exemple: Adresse postale\n",
    "- nom du déstinataire\n",
    "- numéro dans la voie\n",
    "- nom de voie\n",
    "- code postal de 5 chiffres\n",
    "- nom de la commune\n",
    "\n",
    "``\n",
    "void afficher(char* nom_dest, int no_voie, char* nom_voie, int code_postal, char* nom_commune) {\n",
    "    // ...\n",
    "}\n",
    "``\n",
    "- c'est penible à écrire\n",
    "- c'est difficile à maintenir\n",
    "    - ajouter un numéro de boite postale --> modifier __tout__ les fonctions qui utilisent une adresse\n",
    "\n",
    "## Principe du struct\n",
    "\n",
    "Idée : rassembler les informations dans une seule variable\n",
    "\n",
    "Type nommé : ``struct adresse``\n",
    "\n",
    "``struct adresse {\n",
    "   char* nom_dest;\n",
    "   int no_voie;\n",
    "   char* nom_voie;\n",
    "   int code_postal;\n",
    "   char* nom_commune;\n",
    "}\n",
    "``\n",
    "\n",
    "``\n",
    "void afficher(struct adresse mon_adr) {\n",
    "    // ...\n",
    "}\n",
    "``\n",
    "\n",
    "- plus lisible\n",
    "- facile à maintenir:\n",
    "    - ajouter un numéro de boite postale --> l'entête de la fonction reste pareil <br>\n",
    "      (éventuellement ajouter une instruction pour afficher la nouvelle information)\n",
    "\n",
    "## Créer un struct\n",
    "\n",
    "`struct adresse` est un __type__ (comme `int`)\n",
    "\n",
    "pour créer un struct de ce type:\n",
    "\n",
    "``struct adresse adr_prof = {\n",
    "    \"Goran Frehse\",\n",
    "     828, \n",
    "     \"boulevard des maréchaux\",\n",
    "     91762,\n",
    "     \"Palaiseau\"\n",
    "};\n",
    "``\n",
    "\n",
    "\n",
    "\n",
    "## Utiliser un struct\n",
    "\n",
    "```\n",
    "void afficher(struct adresse mon_adr) {\n",
    "    printf(\"%s\\n\",mon_adr.nom_dest);\n",
    "    printf(\"%d, %s\\n\",mon_adr.no_voie,mon_adr.nom_voie);\n",
    "    printf(\"%d %s\\n\",mon_adr.code_postal,mon_adr.nom_commune);\n",
    "}\n",
    "```\n",
    "\n",
    "```\n",
    "int main() {\n",
    "    struct adresse adr_prof = {\n",
    "    \"Goran Frehse\",\n",
    "     828, \n",
    "     \"boulevard des maréchaux\",\n",
    "     91762,\n",
    "     \"Palaiseau\"\n",
    "    };\n",
    "    afficher(adr_prof);\n",
    "}\n",
    "```\n",
    "\n",
    "\n",
    "\n",
    "## Résume de struct\n",
    "\n",
    "### Définition d'un nouveau type struct\n",
    "\n",
    "`struct` nom_de_type `{`\n",
    "\n",
    "    type nom_de_champ1;\n",
    "    type nom_de_champ2;\n",
    "\n",
    "    ... __champs__ ...\n",
    "        \n",
    "`}`\n",
    "\n",
    "### Définition d'une variable struct\n",
    "\n",
    "`struct` nom_de_type nom_de_variable `= {`\n",
    "\n",
    "    valeur1 ,\n",
    "    valeur2 ,\n",
    "    ... ___valeurs__ ...\n",
    "    \n",
    " `}`\n",
    "\n",
    "### Utiliser les champs d'un struct\n",
    "\n",
    "```\n",
    "    nom_de_variable.valeur1 = ...;\n",
    "    nom_de_variable.valeur2 = ...;\n",
    "```\n",
    "\n",
    "### Utiliser les champs d'un pointeur vers struct\n",
    "\n",
    "```\n",
    "    pointeur_vers_struct -> valeur1 = ...;\n",
    "    pointeur_vers_struct -> valeur2 = ...;\n",
    "```    \n",
    "    "
   ]
  }
 ],
 "metadata": {
  "celltoolbar": "Raw Cell Format",
  "kernelspec": {
   "display_name": "Python 3",
   "language": "python",
   "name": "python3"
  },
  "language_info": {
   "codemirror_mode": {
    "name": "ipython",
    "version": 3
   },
   "file_extension": ".py",
   "mimetype": "text/x-python",
   "name": "python",
   "nbconvert_exporter": "python",
   "pygments_lexer": "ipython3",
   "version": "3.7.3"
  },
  "rise": {
   "enable_chalkboard": true,
   "theme": "simple",
   "transition": "none"
  },
  "toc": {
   "base_numbering": 1,
   "nav_menu": {},
   "number_sections": true,
   "sideBar": true,
   "skip_h1_title": false,
   "title_cell": "Sommaire",
   "title_sidebar": "Sommaire",
   "toc_cell": true,
   "toc_position": {
    "height": "calc(100% - 180px)",
    "left": "10px",
    "top": "150px",
    "width": "261px"
   },
   "toc_section_display": true,
   "toc_window_display": true
  }
 },
 "nbformat": 4,
 "nbformat_minor": 2
}

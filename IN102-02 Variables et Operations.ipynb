{
 "cells": [
  {
   "cell_type": "markdown",
   "metadata": {
    "slideshow": {
     "slide_type": "slide"
    },
    "toc": true
   },
   "source": [
    "<h1>Sommaire<span class=\"tocSkip\"></span></h1>\n",
    "<div class=\"toc\"><ul class=\"toc-item\"><li><span><a href=\"#Variables\" data-toc-modified-id=\"Variables-1\"><span class=\"toc-item-num\">1&nbsp;&nbsp;</span>Variables</a></span><ul class=\"toc-item\"><li><span><a href=\"#Types-de-base-:\" data-toc-modified-id=\"Types-de-base-:-1.1\"><span class=\"toc-item-num\">1.1&nbsp;&nbsp;</span>Types de base :</a></span></li><li><span><a href=\"#Afficher-une-variable-avec-printf\" data-toc-modified-id=\"Afficher-une-variable-avec-printf-1.2\"><span class=\"toc-item-num\">1.2&nbsp;&nbsp;</span>Afficher une variable avec <code>printf</code></a></span></li><li><span><a href=\"#Les-flottants\" data-toc-modified-id=\"Les-flottants-1.3\"><span class=\"toc-item-num\">1.3&nbsp;&nbsp;</span>Les flottants</a></span></li><li><span><a href=\"#Portée-des-variables\" data-toc-modified-id=\"Portée-des-variables-1.4\"><span class=\"toc-item-num\">1.4&nbsp;&nbsp;</span>Portée des variables</a></span></li></ul></li><li><span><a href=\"#Operateurs-de-base\" data-toc-modified-id=\"Operateurs-de-base-2\"><span class=\"toc-item-num\">2&nbsp;&nbsp;</span>Operateurs de base</a></span><ul class=\"toc-item\"><li><span><a href=\"#Arithmétique\" data-toc-modified-id=\"Arithmétique-2.1\"><span class=\"toc-item-num\">2.1&nbsp;&nbsp;</span>Arithmétique</a></span></li><li><span><a href=\"#Affectation-et-test-d'égalité\" data-toc-modified-id=\"Affectation-et-test-d'égalité-2.2\"><span class=\"toc-item-num\">2.2&nbsp;&nbsp;</span>Affectation et test d'égalité</a></span></li><li><span><a href=\"#Opérations-logiques\" data-toc-modified-id=\"Opérations-logiques-2.3\"><span class=\"toc-item-num\">2.3&nbsp;&nbsp;</span>Opérations logiques</a></span></li></ul></li></ul></div>"
   ]
  },
  {
   "cell_type": "markdown",
   "metadata": {},
   "source": [
    "**Attention:** Pour activer le langage C, executer le code suivant avec Shift+Entrée où avec le bouton \"Run\"."
   ]
  },
  {
   "cell_type": "code",
   "execution_count": 1,
   "metadata": {},
   "outputs": [
    {
     "name": "stdout",
     "output_type": "stream",
     "text": [
      "Collecting git+git://github.com/frehseg/gcc4jupyter\n",
      "  Cloning git://github.com/frehseg/gcc4jupyter to /tmp/pip-req-build-usw39067\n",
      "  Running command git clone -q git://github.com/frehseg/gcc4jupyter /tmp/pip-req-build-usw39067\n",
      "Requirement already satisfied (use --upgrade to upgrade): GCCPlugin==0.0.1 from git+git://github.com/frehseg/gcc4jupyter in /opt/conda/lib/python3.7/site-packages\n",
      "Building wheels for collected packages: GCCPlugin\n",
      "  Building wheel for GCCPlugin (setup.py) ... \u001b[?25ldone\n",
      "\u001b[?25h  Created wheel for GCCPlugin: filename=GCCPlugin-0.0.1-cp37-none-any.whl size=2001 sha256=9fabf6638b577b69f5351f89c6cabff2bb7b240aaf2c953aea9d29dc054cdbda\n",
      "  Stored in directory: /tmp/pip-ephem-wheel-cache-m63vc0ca/wheels/a6/ff/b4/023d42d3ec7c36b10e15db2a808aae8b2475e19fa6e370f85c\n",
      "Successfully built GCCPlugin\n"
     ]
    }
   ],
   "source": [
    "!pip install git+git://github.com/frehseg/gcc4jupyter\n",
    "%load_ext gcc_plugin"
   ]
  },
  {
   "cell_type": "markdown",
   "metadata": {
    "slideshow": {
     "slide_type": "slide"
    }
   },
   "source": [
    "# Variables\n",
    "\n",
    "En C, toute variable est à déclarer avec son __type__:\n",
    "\n",
    "```int compteur; ```\n",
    "\n",
    "Le type est nécessaire pour :\n",
    "- savoir combien de place (octets) réserver en mémoire\n",
    "- appeler la bonne version des fonctions et opérateurs\n",
    "    - `+`,`-`,`/`, etc.  différent au niveau materiel si entiers ou flottants"
   ]
  },
  {
   "cell_type": "markdown",
   "metadata": {
    "slideshow": {
     "slide_type": "slide"
    }
   },
   "source": [
    "## Types de base :\n",
    "- `char` : caractère sur 1 octet, 0...255\n",
    "- `int` : entiers sur 4 octets = 32 bit <br>\n",
    "    valeurs de $-2^{31}$  à $2^{31}-1$ (1 bit pour le signe) <br>\n",
    "    = -2147483648 à 2147483647\n",
    "    "
   ]
  },
  {
   "cell_type": "markdown",
   "metadata": {
    "slideshow": {
     "slide_type": "fragment"
    }
   },
   "source": [
    "- `float` : flottants de basse précision, sur 4 octets\n",
    "- `double` : flottants de haute précision, sur 8 octets\n",
    "- ... d'autres ...\n",
    "- pas de boolean, utiliser `int` : <br>\n",
    "    faux = `0` <br>\n",
    "    vrai = toute autre valeur (1,-1,...) \n",
    "\n",
    "La taille en octets peut varier selon la machine et le compilateur; si besoin consulter `limit.h` (prochain cours)."
   ]
  },
  {
   "cell_type": "markdown",
   "metadata": {
    "slideshow": {
     "slide_type": "slide"
    }
   },
   "source": [
    "## Afficher une variable avec `printf`\n",
    "\n",
    "Afficher une variable (entier):"
   ]
  },
  {
   "cell_type": "code",
   "execution_count": 2,
   "metadata": {
    "slideshow": {
     "slide_type": "fragment"
    }
   },
   "outputs": [
    {
     "name": "stdout",
     "output_type": "stream",
     "text": [
      "hello 23 bye bye\n"
     ]
    }
   ],
   "source": [
    "%%c\n",
    "#include <stdio.h>\n",
    "int main() {\n",
    "   int i = 23;\n",
    "   printf(\"hello %d bye bye\",i);\n",
    "}"
   ]
  },
  {
   "cell_type": "markdown",
   "metadata": {
    "slideshow": {
     "slide_type": "fragment"
    }
   },
   "source": [
    "`%d` est remplaçé par la variable après le virgule."
   ]
  },
  {
   "cell_type": "markdown",
   "metadata": {
    "slideshow": {
     "slide_type": "slide"
    }
   },
   "source": [
    "Afficher plusieurs variables (entier):"
   ]
  },
  {
   "cell_type": "code",
   "execution_count": 127,
   "metadata": {
    "slideshow": {
     "slide_type": "fragment"
    }
   },
   "outputs": [],
   "source": [
    "%%c\n",
    "#include <stdio.h>\n",
    "int main() {\n",
    "   int i = 23;\n",
    "   int j = 17;\n",
    "   int k = 3;\n",
    "   printf(\"d'abord %d, après %d, ensuite %d\",i,j,k);\n",
    "   return 0; \n",
    "}"
   ]
  },
  {
   "cell_type": "markdown",
   "metadata": {
    "slideshow": {
     "slide_type": "fragment"
    }
   },
   "source": [
    "Les `%d` sont remplaçés dans l'ordre d'apparition par les variables après le virgule."
   ]
  },
  {
   "cell_type": "markdown",
   "metadata": {
    "slideshow": {
     "slide_type": "slide"
    }
   },
   "source": [
    "Codes utiles:\n",
    "- `%c`: caractère (ASCII)\n",
    "- `%d`: entier\n",
    "- `%f`: flottant (float ou double)\n",
    "- `%g`: flottant en format compact\n",
    "- ... d'autres ..."
   ]
  },
  {
   "cell_type": "code",
   "execution_count": 128,
   "metadata": {
    "slideshow": {
     "slide_type": "fragment"
    }
   },
   "outputs": [
    {
     "name": "stdout",
     "output_type": "stream",
     "text": [
      "12345.000000\n",
      "12345\n"
     ]
    }
   ],
   "source": [
    "%%c\n",
    "#include <stdio.h>\n",
    "int main() {\n",
    "   double x = 12345;\n",
    "   printf(\"%f\\n\",x);\n",
    "   printf(\"%g\\n\",x);\n",
    "}"
   ]
  },
  {
   "cell_type": "markdown",
   "metadata": {
    "slideshow": {
     "slide_type": "slide"
    }
   },
   "source": [
    "Précision: \n",
    "- `%.3f` : avec 3 décimales \n",
    "- `%.3g` : avec 3 chiffres significatives "
   ]
  },
  {
   "cell_type": "code",
   "execution_count": 129,
   "metadata": {
    "slideshow": {
     "slide_type": "fragment"
    }
   },
   "outputs": [
    {
     "name": "stdout",
     "output_type": "stream",
     "text": [
      "12345.000\n",
      "1.23e+04\n"
     ]
    }
   ],
   "source": [
    "%%c\n",
    "#include <stdio.h>\n",
    "int main() {\n",
    "   double x = 12345;\n",
    "   printf(\"%.3f\\n\",x);\n",
    "   printf(\"%.3g\\n\",x);\n",
    "}"
   ]
  },
  {
   "cell_type": "markdown",
   "metadata": {
    "slideshow": {
     "slide_type": "slide"
    }
   },
   "source": [
    "Ce que donne le programme suivant?"
   ]
  },
  {
   "cell_type": "code",
   "execution_count": 130,
   "metadata": {
    "slideshow": {
     "slide_type": "fragment"
    }
   },
   "outputs": [
    {
     "name": "stderr",
     "output_type": "stream",
     "text": [
      "/tmp/tmpgli9hh8g.c: In function ‘main’:\n",
      "/tmp/tmpgli9hh8g.c:4:13: warning: format ‘%d’ expects argument of type ‘int’, but argument 2 has type ‘double’ [-Wformat=]\n",
      "    printf(\"%d\",x);\n",
      "            ~^\n",
      "            %f\n"
     ]
    },
    {
     "name": "stdout",
     "output_type": "stream",
     "text": [
      "387650928"
     ]
    }
   ],
   "source": [
    "%%c\n",
    "#include <stdio.h>\n",
    "int main() {\n",
    "   double x = 1.23;\n",
    "   printf(\"%d\",x);\n",
    "}"
   ]
  },
  {
   "cell_type": "markdown",
   "metadata": {
    "slideshow": {
     "slide_type": "slide"
    }
   },
   "source": [
    "## Les flottants\n",
    "\n",
    "<img src=\"https://upload.wikimedia.org/wikipedia/commons/thumb/a/a9/IEEE_754_Double_Floating_Point_Format.svg/1236px-IEEE_754_Double_Floating_Point_Format.svg.png\" alt=\"Double Precision\" width = \"75%\"/>\n",
    "\n",
    "<img src=\"https://wikimedia.org/api/rest_v1/media/math/render/svg/61345d47f069d645947b9c0ab676c75551f1b188\" alt=\"Double Precision\" width = \"50%\"/>\n",
    "\n",
    "zéro : fraction et exposant sont zéro <br>\n",
    "précision : $2^{−52} ≈ 2.22 × 10^{−16}$   (*machine epsilon*) <br>"
   ]
  },
  {
   "cell_type": "markdown",
   "metadata": {
    "slideshow": {
     "slide_type": "slide"
    }
   },
   "source": [
    "précision : $2^{−52} ≈ 2.22 × 10^{−16}$   (*machine epsilon*) <br>\n",
    "Exemple : $1 + 2^{−53}$ en `double` donne?"
   ]
  },
  {
   "cell_type": "code",
   "execution_count": 131,
   "metadata": {
    "slideshow": {
     "slide_type": "fragment"
    }
   },
   "outputs": [
    {
     "name": "stdout",
     "output_type": "stream",
     "text": [
      "1.000000"
     ]
    }
   ],
   "source": [
    "%%c\n",
    "#include <stdio.h>\n",
    "int main() {\n",
    "    printf(\"%f\", 1.0 + 2e-53 );\n",
    "}"
   ]
  },
  {
   "cell_type": "markdown",
   "metadata": {
    "slideshow": {
     "slide_type": "slide"
    }
   },
   "source": [
    "## Portée des variables\n",
    "\n",
    "Une variable dans un bloc `{`... `}` est reconnue seulement dans ce bloc:\n",
    "\n",
    "``{ \n",
    "   int i = 123;\n",
    "}\n",
    "``\n",
    "\n",
    "On l'appele une variable __locale__.\n",
    "\n",
    "Les variables qui ne sont dans aucun bloc sont des variables __globales__, disponibles partout dans le programme. Les variables globales entraînent facilement des bugs, donc on __préfère des variables locales__."
   ]
  },
  {
   "cell_type": "markdown",
   "metadata": {
    "slideshow": {
     "slide_type": "slide"
    }
   },
   "source": [
    "Elle est distinct des autres variables en dehors du bloc, même des celles qui portent le même nom.\n",
    "\n",
    "``\n",
    "int i = -7;\n",
    "{ \n",
    "   int i = 123;\n",
    "   printf(\"%d \",i);\n",
    "}\n",
    "printf(\"%d \",i);\n",
    "``\n",
    "\n",
    "affiche: `123 -7`\n",
    "\n",
    "La variable est 'détruite' à la fin du bloc : la place réservée pour la mémoire est libérée et peut désormais être utilisée pour d'autres variables."
   ]
  },
  {
   "cell_type": "markdown",
   "metadata": {
    "slideshow": {
     "slide_type": "slide"
    }
   },
   "source": [
    "Les blocs peuvent être imbriqués :\n",
    "\n",
    "``\n",
    "int i = 4;\n",
    "{ \n",
    "    int i = -7;\n",
    "    { \n",
    "       int i = 123;\n",
    "       printf(\"%d \",i);\n",
    "    }\n",
    "    printf(\"%d \",i);\n",
    "}\n",
    "printf(\"%d \",i);\n",
    "``\n",
    "\n",
    "affiche: `123 -7 4`\n"
   ]
  },
  {
   "cell_type": "markdown",
   "metadata": {
    "slideshow": {
     "slide_type": "slide"
    }
   },
   "source": [
    "# Operateurs de base\n",
    "## Arithmétique\n",
    "\n",
    "- comme d'habitude : `x + y`, `x - y`, `x * y`\n",
    "- __attention à la division__ : `x / y`\n",
    "    - division entière si `x,y` sont `int`\n",
    "    - division flottante si `float` ou `double`\n",
    "- modulo (reste de la division entière): `x % y`"
   ]
  },
  {
   "cell_type": "code",
   "execution_count": 132,
   "metadata": {
    "slideshow": {
     "slide_type": "slide"
    }
   },
   "outputs": [
    {
     "name": "stdout",
     "output_type": "stream",
     "text": [
      "2"
     ]
    }
   ],
   "source": [
    "%%c\n",
    "#include <stdio.h>\n",
    "int main() {\n",
    "   int x = 7;\n",
    "   int y = 3;\n",
    "   printf(\"%d\", x / y );\n",
    "}"
   ]
  },
  {
   "cell_type": "code",
   "execution_count": 135,
   "metadata": {
    "slideshow": {
     "slide_type": "slide"
    }
   },
   "outputs": [
    {
     "name": "stdout",
     "output_type": "stream",
     "text": [
      "2.333333"
     ]
    }
   ],
   "source": [
    "%%c\n",
    "#include <stdio.h>\n",
    "int main() {\n",
    "   double x = 7;\n",
    "   double y = 3;\n",
    "   printf(\"%f\", x / y );\n",
    "}"
   ]
  },
  {
   "cell_type": "markdown",
   "metadata": {
    "slideshow": {
     "slide_type": "slide"
    }
   },
   "source": [
    "## Affectation et test d'égalité\n",
    "\n",
    "- l'affectation `x = y` donne comme valeur de retour la nouvelle valeur de `x`\n",
    "- ça permet d'écrire par exemple `x = y = z = 3` (déconseillé)\n",
    "\n",
    "__attention__: facile à confondre avec le test d'égalité `x == y`"
   ]
  },
  {
   "cell_type": "code",
   "execution_count": 4,
   "metadata": {
    "scrolled": false,
    "slideshow": {
     "slide_type": "fragment"
    }
   },
   "outputs": [
    {
     "name": "stdout",
     "output_type": "stream",
     "text": [
      "0\n",
      "2\n",
      "3\n",
      "3\n",
      "\n"
     ]
    }
   ],
   "source": [
    "%%c\n",
    "#include <stdio.h>\n",
    "int main() {\n",
    "   int x = 2;\n",
    "   int y = 3;\n",
    "   printf(\"%d\\n\", x==y );\n",
    "   printf(\"%d\\n\", x );\n",
    "   printf(\"%d\\n\", x=y );\n",
    "   printf(\"%d\\n\", x );\n",
    "} "
   ]
  },
  {
   "cell_type": "markdown",
   "metadata": {},
   "source": [
    "Pour tester si `x` et `y` sont différentes, on peut utiliser `x != y`."
   ]
  },
  {
   "cell_type": "markdown",
   "metadata": {
    "slideshow": {
     "slide_type": "slide"
    }
   },
   "source": [
    "## Opérations logiques\n",
    "- et logique : `x && y`\n",
    "- ou logique : `x || y`\n",
    "- négation : `!x`"
   ]
  },
  {
   "cell_type": "code",
   "execution_count": 137,
   "metadata": {
    "slideshow": {
     "slide_type": "fragment"
    }
   },
   "outputs": [
    {
     "name": "stdout",
     "output_type": "stream",
     "text": [
      "0"
     ]
    }
   ],
   "source": [
    "%%c\n",
    "#include <stdio.h>\n",
    "int main() {\n",
    "   int x = 3; // vrai, car pas 0\n",
    "   int y = 0; // faux, car 0\n",
    "   printf(\"%d\", x && y);\n",
    "}"
   ]
  },
  {
   "cell_type": "code",
   "execution_count": 139,
   "metadata": {
    "slideshow": {
     "slide_type": "slide"
    }
   },
   "outputs": [
    {
     "name": "stdout",
     "output_type": "stream",
     "text": [
      "11"
     ]
    }
   ],
   "source": [
    "%%c\n",
    "#include <stdio.h>\n",
    "int main() {\n",
    "   int x = 3; // vrai, car pas 0\n",
    "   int y = 1; // vrai, car pas 0\n",
    "   printf(\"%d\", x && y);\n",
    "   printf(\"%d\", !0 );\n",
    "    \n",
    "}"
   ]
  },
  {
   "cell_type": "markdown",
   "metadata": {
    "slideshow": {
     "slide_type": "slide"
    }
   },
   "source": [
    "__attention__:\n",
    "- et par bit : `x & y`\n",
    "- ou par bit : `x | y`\n",
    "- négation par bit : `~x`"
   ]
  },
  {
   "cell_type": "code",
   "execution_count": 140,
   "metadata": {
    "slideshow": {
     "slide_type": "fragment"
    }
   },
   "outputs": [
    {
     "name": "stdout",
     "output_type": "stream",
     "text": [
      "1\n",
      "0\n"
     ]
    }
   ],
   "source": [
    "%%c\n",
    "#include <stdio.h>\n",
    "int main() {\n",
    "   int x = 2; // vrai, car pas 0\n",
    "   int y = 1; // vrai, car pas 0\n",
    "   printf(\"%d\\n\", x && y);\n",
    "   printf(\"%d\\n\", x & y);\n",
    "}"
   ]
  },
  {
   "cell_type": "markdown",
   "metadata": {
    "slideshow": {
     "slide_type": "fragment"
    }
   },
   "source": [
    "`2` en binaire = `10`, `1` en binaire = `01` <br>\n",
    "`2 && 1` en binaire = `00`"
   ]
  }
 ],
 "metadata": {
  "celltoolbar": "Raw Cell Format",
  "kernelspec": {
   "display_name": "Python 3",
   "language": "python",
   "name": "python3"
  },
  "language_info": {
   "codemirror_mode": {
    "name": "ipython",
    "version": 3
   },
   "file_extension": ".py",
   "mimetype": "text/x-python",
   "name": "python",
   "nbconvert_exporter": "python",
   "pygments_lexer": "ipython3",
   "version": "3.7.3"
  },
  "rise": {
   "enable_chalkboard": true,
   "theme": "simple",
   "transition": "none"
  },
  "toc": {
   "base_numbering": 1,
   "nav_menu": {},
   "number_sections": true,
   "sideBar": true,
   "skip_h1_title": false,
   "title_cell": "Sommaire",
   "title_sidebar": "Sommaire",
   "toc_cell": true,
   "toc_position": {
    "height": "calc(100% - 180px)",
    "left": "10px",
    "top": "150px",
    "width": "261px"
   },
   "toc_section_display": true,
   "toc_window_display": true
  }
 },
 "nbformat": 4,
 "nbformat_minor": 2
}

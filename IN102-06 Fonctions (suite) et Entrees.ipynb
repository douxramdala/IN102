{
 "cells": [
  {
   "cell_type": "markdown",
   "metadata": {
    "slideshow": {
     "slide_type": ""
    },
    "toc": true
   },
   "source": [
    "<h1>Sommaire<span class=\"tocSkip\"></span></h1>\n",
    "<div class=\"toc\"><ul class=\"toc-item\"><li><span><a href=\"#Fonctions-(suite)\" data-toc-modified-id=\"Fonctions-(suite)-1\"><span class=\"toc-item-num\">1&nbsp;&nbsp;</span>Fonctions (suite)</a></span><ul class=\"toc-item\"><li><span><a href=\"#Passage-par-valeur\" data-toc-modified-id=\"Passage-par-valeur-1.1\"><span class=\"toc-item-num\">1.1&nbsp;&nbsp;</span>Passage par valeur</a></span><ul class=\"toc-item\"><li><span><a href=\"#Avantage-de-passage-à-valeur\" data-toc-modified-id=\"Avantage-de-passage-à-valeur-1.1.1\"><span class=\"toc-item-num\">1.1.1&nbsp;&nbsp;</span>Avantage de passage à valeur</a></span></li><li><span><a href=\"#Inconvénient-de-passage-à-valeur\" data-toc-modified-id=\"Inconvénient-de-passage-à-valeur-1.1.2\"><span class=\"toc-item-num\">1.1.2&nbsp;&nbsp;</span>Inconvénient de passage à valeur</a></span></li></ul></li><li><span><a href=\"#Passage-par-adresse\" data-toc-modified-id=\"Passage-par-adresse-1.2\"><span class=\"toc-item-num\">1.2&nbsp;&nbsp;</span>Passage par adresse</a></span><ul class=\"toc-item\"><li><span><a href=\"#Exemple:-Incrémenter\" data-toc-modified-id=\"Exemple:-Incrémenter-1.2.1\"><span class=\"toc-item-num\">1.2.1&nbsp;&nbsp;</span>Exemple: Incrémenter</a></span></li><li><span><a href=\"#Exemple:-Echanger-deux-valeurs-(swap)\" data-toc-modified-id=\"Exemple:-Echanger-deux-valeurs-(swap)-1.2.2\"><span class=\"toc-item-num\">1.2.2&nbsp;&nbsp;</span>Exemple: Echanger deux valeurs (swap)</a></span></li></ul></li><li><span><a href=\"#Prototype-de-fonction\" data-toc-modified-id=\"Prototype-de-fonction-1.3\"><span class=\"toc-item-num\">1.3&nbsp;&nbsp;</span>Prototype de fonction</a></span></li></ul></li><li><span><a href=\"#Lire-des-Entrées-au-Clavier\" data-toc-modified-id=\"Lire-des-Entrées-au-Clavier-2\"><span class=\"toc-item-num\">2&nbsp;&nbsp;</span>Lire des Entrées au Clavier</a></span><ul class=\"toc-item\"><li><ul class=\"toc-item\"><li><span><a href=\"#Avantage-de-passage-par-adresse\" data-toc-modified-id=\"Avantage-de-passage-par-adresse-2.0.1\"><span class=\"toc-item-num\">2.0.1&nbsp;&nbsp;</span>Avantage de passage par adresse</a></span></li><li><span><a href=\"#Inconvénient-de-passage-par-adresse\" data-toc-modified-id=\"Inconvénient-de-passage-par-adresse-2.0.2\"><span class=\"toc-item-num\">2.0.2&nbsp;&nbsp;</span>Inconvénient de passage par adresse</a></span></li></ul></li></ul></li><li><span><a href=\"#Boucles-(suite)\" data-toc-modified-id=\"Boucles-(suite)-3\"><span class=\"toc-item-num\">3&nbsp;&nbsp;</span>Boucles (suite)</a></span><ul class=\"toc-item\"><li><span><a href=\"#Boucle-do-while\" data-toc-modified-id=\"Boucle-do-while-3.1\"><span class=\"toc-item-num\">3.1&nbsp;&nbsp;</span>Boucle do-while</a></span></li></ul></li></ul></div>"
   ]
  },
  {
   "cell_type": "markdown",
   "metadata": {},
   "source": [
    "**Attention:** Pour activer le langage C, executer le code suivant avec Shift+Entrée où avec le bouton \"Run\"."
   ]
  },
  {
   "cell_type": "code",
   "execution_count": null,
   "metadata": {},
   "outputs": [],
   "source": [
    "!pip install git+git://github.com/frehseg/gcc4jupyter\n",
    "%load_ext gcc_plugin\n",
    "%load_ext add_cpp_magic"
   ]
  },
  {
   "cell_type": "markdown",
   "metadata": {
    "slideshow": {
     "slide_type": "slide"
    }
   },
   "source": [
    "# Fonctions (suite)"
   ]
  },
  {
   "cell_type": "markdown",
   "metadata": {
    "slideshow": {
     "slide_type": "slide"
    }
   },
   "source": [
    "## Passage par valeur\n",
    "\n",
    "Les arguments sont des __variables__:\n",
    "\n",
    "``\n",
    "int carre_par_valeur(int z) {\n",
    "   return z*z;\n",
    "}``"
   ]
  },
  {
   "cell_type": "markdown",
   "metadata": {
    "slideshow": {
     "slide_type": "fragment"
    }
   },
   "source": [
    "``int main() {\n",
    "   int x = 3;\n",
    "   x = carre_par_valeur(x);\n",
    "   printf(\"%d\",x);\n",
    "}\n",
    "``"
   ]
  },
  {
   "cell_type": "markdown",
   "metadata": {
    "slideshow": {
     "slide_type": "fragment"
    }
   },
   "source": [
    "1. Je fais une __copie__ de `x` dans `z`.\n",
    "2. Je fais un calcul avec.\n",
    "3. Je copie le résultat du calcul dans la __valeur de retour__ (registre)."
   ]
  },
  {
   "cell_type": "markdown",
   "metadata": {
    "slideshow": {
     "slide_type": "slide"
    }
   },
   "source": [
    "### Avantage de passage à valeur\n",
    "- facile à écrire\n",
    "\n",
    "### Inconvénient de passage à valeur\n",
    "- copies des valeurs (`x` vers `z`) --> lent (ça dépend)"
   ]
  },
  {
   "cell_type": "markdown",
   "metadata": {
    "slideshow": {
     "slide_type": "slide"
    }
   },
   "source": [
    "## Passage par adresse\n",
    "\n",
    "L'argument est un __pointeur__:\n",
    "\n",
    "``\n",
    "void carre_par_adresse(int* px) {\n",
    "    (*px) = (*px) * (*px); // rappel: (*px) identique à x\n",
    "}``"
   ]
  },
  {
   "cell_type": "markdown",
   "metadata": {
    "slideshow": {
     "slide_type": "fragment"
    }
   },
   "source": [
    "``int main() {\n",
    "   int x = 3;\n",
    "   carre_par_adresse(&x);\n",
    "   printf(\"%d\",x);\n",
    "}\n",
    "``"
   ]
  },
  {
   "cell_type": "markdown",
   "metadata": {
    "slideshow": {
     "slide_type": "fragment"
    }
   },
   "source": [
    "1. Je fais le calcul directement avec `x`.\n",
    "2. Je manipule `x` via un pointeur."
   ]
  },
  {
   "cell_type": "markdown",
   "metadata": {
    "slideshow": {
     "slide_type": "slide"
    }
   },
   "source": [
    "### Exemple: Incrémenter\n",
    "\n",
    "On essaie d'écrire une fonction qui incrémente la valeur de son argument par 1. Observez ce que fait la version avec passage par valeur:"
   ]
  },
  {
   "cell_type": "code",
   "execution_count": null,
   "metadata": {},
   "outputs": [],
   "source": [
    "#include <stdio.h>\n",
    "void incrementer(int x) {\n",
    "    x = x + 1;\n",
    "}\n",
    "int main() {\n",
    "   int x = 7;\n",
    "   incrementer(x);\n",
    "   printf(\"%d\",x);\n",
    "}"
   ]
  },
  {
   "cell_type": "markdown",
   "metadata": {},
   "source": [
    "Voici une version avec passage par adresse:"
   ]
  },
  {
   "cell_type": "code",
   "execution_count": null,
   "metadata": {},
   "outputs": [],
   "source": [
    "#include <stdio.h>\n",
    "void incrementer(int* px) {\n",
    "    *px = *px + 1;\n",
    "}\n",
    "int main() {\n",
    "   int x = 7;\n",
    "   incrementer(&x);\n",
    "   printf(\"%d\",x);\n",
    "}"
   ]
  },
  {
   "cell_type": "markdown",
   "metadata": {
    "slideshow": {
     "slide_type": "slide"
    }
   },
   "source": [
    "### Exemple: Echanger deux valeurs (swap)"
   ]
  },
  {
   "cell_type": "code",
   "execution_count": null,
   "metadata": {
    "slideshow": {
     "slide_type": "slide"
    }
   },
   "outputs": [],
   "source": [
    "#include <stdio.h>\n",
    "void swap(int x, int y) {\n",
    "   int temp = x;\n",
    "   x = y;\n",
    "   y = temp;\n",
    "}\n",
    "int main() {\n",
    "   int x = 7; int y = 3; // <@>\n",
    "   swap(x,y);\n",
    "   printf(\"%d,%d\",x,y);\n",
    "}"
   ]
  },
  {
   "cell_type": "code",
   "execution_count": null,
   "metadata": {
    "slideshow": {
     "slide_type": "slide"
    }
   },
   "outputs": [],
   "source": [
    "#include <stdio.h>\n",
    "void swap(int* px, int* py) {\n",
    "   int temp = *px;\n",
    "   *px = *py;\n",
    "   *py = temp;\n",
    "}\n",
    "int main() {\n",
    "   int x = 7; int y = 3; // <@>\n",
    "   swap(&x,&y);\n",
    "   printf(\"%d,%d\",x,y);\n",
    "}"
   ]
  },
  {
   "cell_type": "markdown",
   "metadata": {},
   "source": [
    "## Prototype de fonction\n",
    "\n",
    "Le prototype, ou __déclaration__, d'une fonction est \n",
    "\n",
    "    <valeur de retour> `nom_de_fonction`( ...arguments... ) `;`\n",
    "\n",
    "Exemples:\n",
    "`double Fahrenheit2Celsius(double x);`\n",
    "\n",
    "`void afficher_resultat(double x, double y);`\n",
    "\n",
    "`void swap(int* px, int* py);`\n",
    "\n",
    "Pour utiliser la fonction dans __autre fichier__, il suffit de connaître son prototype."
   ]
  },
  {
   "cell_type": "markdown",
   "metadata": {
    "slideshow": {
     "slide_type": "slide"
    }
   },
   "source": [
    "# Lire des Entrées au Clavier\n",
    "\n",
    "Pour afficher une valeur : \n",
    "\n",
    "    `printf(\"message: %d,%d\",x,y)`\n",
    "\n",
    "Pour lire une valeur au clavier : \n",
    "\n",
    "    `scanf(\"%d,%d\", &x, &y)`\n",
    "\n",
    "__attention__: pas de message, seulement format (`%d,%f`,...)\n",
    "    \n",
    "`&x`: l'adresse de `x`(pourquoi?)\n",
    "\n",
    "valeur de retour : nombre de valeurs lus"
   ]
  },
  {
   "cell_type": "markdown",
   "metadata": {
    "slideshow": {
     "slide_type": "slide"
    }
   },
   "source": [
    "```\n",
    "#include <stdio.h>\n",
    "int main() {\n",
    "    int x,y;\n",
    "    printf(\"Entrer deux valeurs: \");\n",
    "    int n = scanf(\"%d,%d\",&x,&y);\n",
    "    printf(\"x=%d,y=%d,n=%d\\n\",x,y,n);\n",
    "}\n",
    "```"
   ]
  },
  {
   "cell_type": "markdown",
   "metadata": {
    "slideshow": {
     "slide_type": "fragment"
    }
   },
   "source": [
    "```\n",
    "$ ./a.out\n",
    "Entrer deux valeurs: 3,4\n",
    "x=3,y=4,n=2\n",
    "$ ./a.out \n",
    "Entrer deux valeurs: 3 4\n",
    "x=3,y=1759981600,n=1\n",
    "$ ./a.out\n",
    "Entrer deux valeurs: 3 a\n",
    "x=3,y=1604196336,n=1\n",
    "```"
   ]
  },
  {
   "cell_type": "markdown",
   "metadata": {
    "slideshow": {
     "slide_type": "slide"
    }
   },
   "source": [
    "### Avantage de passage par adresse\n",
    "- pas de copie --> rapide\n",
    "- on peut manipuler plusieurs valeurs!\n",
    "\n",
    "### Inconvénient de passage par adresse\n",
    "- plus difficile à écire\n"
   ]
  },
  {
   "cell_type": "markdown",
   "metadata": {
    "slideshow": {
     "slide_type": "slide"
    }
   },
   "source": [
    "# Boucles (suite)\n"
   ]
  },
  {
   "cell_type": "markdown",
   "metadata": {
    "slideshow": {
     "slide_type": "slide"
    }
   },
   "source": [
    "## Boucle do-while\n",
    "\n",
    "La boucle __while__ est parfois pas très élégante :\n",
    "\n",
    "```\n",
    "#include <stdio.h>\n",
    "int main() {\n",
    "    int reponse;\n",
    "    printf(\"Entrez 4 pour quitter: \");\n",
    "    scanf(\"%d\",&reponse);\n",
    "    while (reponse!=4) {\n",
    "        scanf(\"%d\",&reponse);\n",
    "    } \n",
    "}\n",
    "```"
   ]
  },
  {
   "cell_type": "markdown",
   "metadata": {
    "slideshow": {
     "slide_type": "fragment"
    }
   },
   "source": [
    "`scanf`est écrit deux fois : deux fois plus de chance d'un bug"
   ]
  },
  {
   "cell_type": "markdown",
   "metadata": {
    "slideshow": {
     "slide_type": "slide"
    }
   },
   "source": [
    "variante : boucle `do`-`while` execute son corps au moins une fois"
   ]
  },
  {
   "cell_type": "markdown",
   "metadata": {
    "slideshow": {
     "slide_type": "fragment"
    }
   },
   "source": [
    "```\n",
    "#include <stdio.h>\n",
    "int main() {\n",
    "    int reponse;\n",
    "    printf(\"Entrez 4 pour quitter: \");\n",
    "    do {\n",
    "        scanf(\"%d\",&reponse);\n",
    "    } while (reponse!=4) \n",
    "}\n",
    "```"
   ]
  },
  {
   "cell_type": "markdown",
   "metadata": {
    "raw_mimetype": "text/markdown"
   },
   "source": [
    "<script>\n",
    "    console.log(\"Hello. You'll see this printed in your browser's DevTools / Console. Feel free to delete this line.\");\n",
    "    document.querySelector('head').innerHTML += '<style>.slides { zoom: 1.0 !important; }</style>';\n",
    "</script>"
   ]
  },
  {
   "cell_type": "code",
   "execution_count": null,
   "metadata": {},
   "outputs": [],
   "source": []
  }
 ],
 "metadata": {
  "celltoolbar": "Raw Cell Format",
  "kernelspec": {
   "display_name": "Python 3",
   "language": "python",
   "name": "python3"
  },
  "language_info": {
   "codemirror_mode": {
    "name": "ipython",
    "version": 3
   },
   "file_extension": ".py",
   "mimetype": "text/x-python",
   "name": "python",
   "nbconvert_exporter": "python",
   "pygments_lexer": "ipython3",
   "version": "3.7.3"
  },
  "rise": {
   "enable_chalkboard": true,
   "theme": "simple",
   "transition": "none"
  },
  "toc": {
   "base_numbering": 1,
   "nav_menu": {},
   "number_sections": true,
   "sideBar": true,
   "skip_h1_title": false,
   "title_cell": "Sommaire",
   "title_sidebar": "Sommaire",
   "toc_cell": true,
   "toc_position": {
    "height": "calc(100% - 180px)",
    "left": "10px",
    "top": "150px",
    "width": "261px"
   },
   "toc_section_display": true,
   "toc_window_display": false
  }
 },
 "nbformat": 4,
 "nbformat_minor": 2
}
